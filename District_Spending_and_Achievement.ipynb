{
 "cells": [
  {
   "cell_type": "markdown",
   "metadata": {},
   "source": [
    "# School District Spending and Achievement Analysis"
   ]
  },
  {
   "cell_type": "markdown",
   "metadata": {},
   "source": [
    "By Alexis Kedo\n",
    "\n",
    "Insert data source"
   ]
  },
  {
   "cell_type": "markdown",
   "metadata": {},
   "source": [
    "## Introduction and Business Understanding\n",
    "\n",
    "It is generally accepted that high levels of education funding tend to have a positive impact on students' academic achievement, as more money generally allows a district to higher better-qualified, more experienced teachers, purchase high-quality materials, and provide more services to meet students' myriad social, emotional, and learning needs. \n",
    "\n",
    "However, the relative impacts of district, state, and federal money are murkier. Though virtually all school districts receive varying levels of each, the extent to which each funding category impacts student achievement is unclear. Furthermore, the impact of federal and state funding on specific localities is rarely explored, as local achievement data is not as readily available as national and state-level assessment results. \n",
    "\n",
    "For my analysis, I combined several available public education datasets in an attempt to create an accurate predictor of reading scores for all students in a particular school district, based on that district's proportion of state, local, and federal funding, as well as raw amounts for funding at each level. I aim to help the U.S. Department of Education identify ideal proportions of funding at each level, as well as determine if federal funding, specficially, has a discernible impact on a district's reading achievement. \n",
    "\n",
    "Business Question: How do different levels of government revenue and spending on public education (e.g., the ratio of federal spending to total spending) impact whether or not a district's achievement level is over 50%? "
   ]
  },
  {
   "cell_type": "code",
   "execution_count": 1,
   "metadata": {},
   "outputs": [],
   "source": [
    "# Import all necessary libraries \n",
    "import numpy as np\n",
    "import pandas as pd\n",
    "import matplotlib.pyplot as plt\n",
    "import seaborn as sn\n",
    "import functions as fn"
   ]
  },
  {
   "cell_type": "code",
   "execution_count": 2,
   "metadata": {},
   "outputs": [],
   "source": [
    "from sklearn.pipeline import Pipeline\n",
    "\n",
    "from sklearn.model_selection import train_test_split, GridSearchCV\n",
    "from sklearn.preprocessing import StandardScaler, MinMaxScaler\n",
    "from sklearn.metrics import accuracy_score\n",
    "from sklearn.metrics import f1_score, roc_auc_score, plot_confusion_matrix, precision_score, recall_score \n",
    "\n",
    "#from category_encoders import CountEncoder"
   ]
  },
  {
   "cell_type": "markdown",
   "metadata": {},
   "source": [
    "## Data Preparation & Cleaning"
   ]
  },
  {
   "cell_type": "markdown",
   "metadata": {},
   "source": [
    "I have two school expenditure data frames to work from - one that I will use to match states with district names, \n",
    "and one with the 2018 expenditure info from which I'll pull all predictor variables. \n"
   ]
  },
  {
   "cell_type": "code",
   "execution_count": 3,
   "metadata": {},
   "outputs": [],
   "source": [
    "df = pd.read_excel('district_data/elsec18t.xls')"
   ]
  },
  {
   "cell_type": "code",
   "execution_count": 4,
   "metadata": {
    "scrolled": true
   },
   "outputs": [
    {
     "data": {
      "text/html": [
       "<div>\n",
       "<style scoped>\n",
       "    .dataframe tbody tr th:only-of-type {\n",
       "        vertical-align: middle;\n",
       "    }\n",
       "\n",
       "    .dataframe tbody tr th {\n",
       "        vertical-align: top;\n",
       "    }\n",
       "\n",
       "    .dataframe thead th {\n",
       "        text-align: right;\n",
       "    }\n",
       "</style>\n",
       "<table border=\"1\" class=\"dataframe\">\n",
       "  <thead>\n",
       "    <tr style=\"text-align: right;\">\n",
       "      <th></th>\n",
       "      <th>IDCENSUS</th>\n",
       "      <th>NAME</th>\n",
       "      <th>CONUM</th>\n",
       "      <th>CSA</th>\n",
       "      <th>CBSA</th>\n",
       "      <th>NCESID</th>\n",
       "      <th>ENROLL</th>\n",
       "      <th>TOTALREV</th>\n",
       "      <th>TFEDREV</th>\n",
       "      <th>FEDRCOMP</th>\n",
       "      <th>...</th>\n",
       "      <th>PPSALWG</th>\n",
       "      <th>PPEMPBEN</th>\n",
       "      <th>PPITOTAL</th>\n",
       "      <th>PPISALWG</th>\n",
       "      <th>PPIEMBEN</th>\n",
       "      <th>PPSTOTAL</th>\n",
       "      <th>PPSPUPIL</th>\n",
       "      <th>PPSSTAFF</th>\n",
       "      <th>PPSGENAD</th>\n",
       "      <th>PPSSCHAD</th>\n",
       "    </tr>\n",
       "  </thead>\n",
       "  <tbody>\n",
       "    <tr>\n",
       "      <th>0</th>\n",
       "      <td>1500100100000</td>\n",
       "      <td>AUTAUGA COUNTY SCHOOL DISTRICT</td>\n",
       "      <td>1001</td>\n",
       "      <td>N</td>\n",
       "      <td>33860</td>\n",
       "      <td>0100240</td>\n",
       "      <td>9247</td>\n",
       "      <td>82258</td>\n",
       "      <td>7240</td>\n",
       "      <td>1805</td>\n",
       "      <td>...</td>\n",
       "      <td>4750</td>\n",
       "      <td>2005</td>\n",
       "      <td>4927</td>\n",
       "      <td>3244</td>\n",
       "      <td>1277</td>\n",
       "      <td>2704</td>\n",
       "      <td>435</td>\n",
       "      <td>218</td>\n",
       "      <td>176</td>\n",
       "      <td>513</td>\n",
       "    </tr>\n",
       "    <tr>\n",
       "      <th>1</th>\n",
       "      <td>1500200100000</td>\n",
       "      <td>BALDWIN COUNTY SCHOOL DISTRICT</td>\n",
       "      <td>1003</td>\n",
       "      <td>380</td>\n",
       "      <td>19300</td>\n",
       "      <td>0100270</td>\n",
       "      <td>31782</td>\n",
       "      <td>372175</td>\n",
       "      <td>25803</td>\n",
       "      <td>6930</td>\n",
       "      <td>...</td>\n",
       "      <td>5305</td>\n",
       "      <td>2104</td>\n",
       "      <td>5411</td>\n",
       "      <td>3488</td>\n",
       "      <td>1338</td>\n",
       "      <td>3390</td>\n",
       "      <td>613</td>\n",
       "      <td>360</td>\n",
       "      <td>125</td>\n",
       "      <td>620</td>\n",
       "    </tr>\n",
       "    <tr>\n",
       "      <th>2</th>\n",
       "      <td>1500300100000</td>\n",
       "      <td>BARBOUR COUNTY SCHOOL DISTRICT</td>\n",
       "      <td>1005</td>\n",
       "      <td>N</td>\n",
       "      <td>21640</td>\n",
       "      <td>0100300</td>\n",
       "      <td>824</td>\n",
       "      <td>10016</td>\n",
       "      <td>2269</td>\n",
       "      <td>1103</td>\n",
       "      <td>...</td>\n",
       "      <td>6335</td>\n",
       "      <td>2559</td>\n",
       "      <td>6011</td>\n",
       "      <td>3608</td>\n",
       "      <td>1432</td>\n",
       "      <td>5115</td>\n",
       "      <td>562</td>\n",
       "      <td>441</td>\n",
       "      <td>966</td>\n",
       "      <td>738</td>\n",
       "    </tr>\n",
       "    <tr>\n",
       "      <th>3</th>\n",
       "      <td>1500300200000</td>\n",
       "      <td>EUFAULA CITY SCHOOL DISTRICT</td>\n",
       "      <td>1005</td>\n",
       "      <td>N</td>\n",
       "      <td>21640</td>\n",
       "      <td>0101410</td>\n",
       "      <td>4619</td>\n",
       "      <td>35701</td>\n",
       "      <td>3849</td>\n",
       "      <td>1146</td>\n",
       "      <td>...</td>\n",
       "      <td>3217</td>\n",
       "      <td>1310</td>\n",
       "      <td>3459</td>\n",
       "      <td>2086</td>\n",
       "      <td>833</td>\n",
       "      <td>2020</td>\n",
       "      <td>371</td>\n",
       "      <td>161</td>\n",
       "      <td>246</td>\n",
       "      <td>429</td>\n",
       "    </tr>\n",
       "    <tr>\n",
       "      <th>4</th>\n",
       "      <td>1500400100000</td>\n",
       "      <td>BIBB COUNTY SCHOOL DISTRICT</td>\n",
       "      <td>1007</td>\n",
       "      <td>142</td>\n",
       "      <td>13820</td>\n",
       "      <td>0100360</td>\n",
       "      <td>3252</td>\n",
       "      <td>33360</td>\n",
       "      <td>3811</td>\n",
       "      <td>1049</td>\n",
       "      <td>...</td>\n",
       "      <td>5406</td>\n",
       "      <td>2217</td>\n",
       "      <td>5089</td>\n",
       "      <td>3284</td>\n",
       "      <td>1279</td>\n",
       "      <td>3682</td>\n",
       "      <td>645</td>\n",
       "      <td>493</td>\n",
       "      <td>352</td>\n",
       "      <td>639</td>\n",
       "    </tr>\n",
       "  </tbody>\n",
       "</table>\n",
       "<p>5 rows × 66 columns</p>\n",
       "</div>"
      ],
      "text/plain": [
       "        IDCENSUS                            NAME  CONUM  CSA   CBSA   NCESID  \\\n",
       "0  1500100100000  AUTAUGA COUNTY SCHOOL DISTRICT   1001    N  33860  0100240   \n",
       "1  1500200100000  BALDWIN COUNTY SCHOOL DISTRICT   1003  380  19300  0100270   \n",
       "2  1500300100000  BARBOUR COUNTY SCHOOL DISTRICT   1005    N  21640  0100300   \n",
       "3  1500300200000    EUFAULA CITY SCHOOL DISTRICT   1005    N  21640  0101410   \n",
       "4  1500400100000     BIBB COUNTY SCHOOL DISTRICT   1007  142  13820  0100360   \n",
       "\n",
       "   ENROLL  TOTALREV  TFEDREV  FEDRCOMP  ...  PPSALWG  PPEMPBEN  PPITOTAL  \\\n",
       "0    9247     82258     7240      1805  ...     4750      2005      4927   \n",
       "1   31782    372175    25803      6930  ...     5305      2104      5411   \n",
       "2     824     10016     2269      1103  ...     6335      2559      6011   \n",
       "3    4619     35701     3849      1146  ...     3217      1310      3459   \n",
       "4    3252     33360     3811      1049  ...     5406      2217      5089   \n",
       "\n",
       "   PPISALWG  PPIEMBEN  PPSTOTAL  PPSPUPIL  PPSSTAFF  PPSGENAD  PPSSCHAD  \n",
       "0      3244      1277      2704       435       218       176       513  \n",
       "1      3488      1338      3390       613       360       125       620  \n",
       "2      3608      1432      5115       562       441       966       738  \n",
       "3      2086       833      2020       371       161       246       429  \n",
       "4      3284      1279      3682       645       493       352       639  \n",
       "\n",
       "[5 rows x 66 columns]"
      ]
     },
     "execution_count": 4,
     "metadata": {},
     "output_type": "execute_result"
    }
   ],
   "source": [
    "df.head()"
   ]
  },
  {
   "cell_type": "code",
   "execution_count": 5,
   "metadata": {},
   "outputs": [
    {
     "data": {
      "text/plain": [
       "(14274, 66)"
      ]
     },
     "execution_count": 5,
     "metadata": {},
     "output_type": "execute_result"
    }
   ],
   "source": [
    "df.shape"
   ]
  },
  {
   "cell_type": "code",
   "execution_count": 6,
   "metadata": {
    "scrolled": true
   },
   "outputs": [
    {
     "data": {
      "text/html": [
       "<div>\n",
       "<style scoped>\n",
       "    .dataframe tbody tr th:only-of-type {\n",
       "        vertical-align: middle;\n",
       "    }\n",
       "\n",
       "    .dataframe tbody tr th {\n",
       "        vertical-align: top;\n",
       "    }\n",
       "\n",
       "    .dataframe thead th {\n",
       "        text-align: right;\n",
       "    }\n",
       "</style>\n",
       "<table border=\"1\" class=\"dataframe\">\n",
       "  <thead>\n",
       "    <tr style=\"text-align: right;\">\n",
       "      <th></th>\n",
       "      <th>IDCENSUS</th>\n",
       "      <th>NCESID</th>\n",
       "      <th>NAME</th>\n",
       "      <th>ENROLL</th>\n",
       "      <th>TOTALREV</th>\n",
       "      <th>TFEDREV</th>\n",
       "      <th>FEDRCOMP</th>\n",
       "      <th>TSTREV</th>\n",
       "      <th>TLOCREV</th>\n",
       "      <th>LOCRPROP</th>\n",
       "      <th>...</th>\n",
       "      <th>PCTTOTAL</th>\n",
       "      <th>PCTFTOT</th>\n",
       "      <th>PCTSTOT</th>\n",
       "      <th>PCTLTOT</th>\n",
       "      <th>PCTLTAXP</th>\n",
       "      <th>PPCSTOT</th>\n",
       "      <th>PPSALWG</th>\n",
       "      <th>PPITOTAL</th>\n",
       "      <th>PPISALWG</th>\n",
       "      <th>PPSPUPIL</th>\n",
       "    </tr>\n",
       "  </thead>\n",
       "  <tbody>\n",
       "    <tr>\n",
       "      <th>0</th>\n",
       "      <td>1500100100000</td>\n",
       "      <td>0100240</td>\n",
       "      <td>AUTAUGA COUNTY SCHOOL DISTRICT</td>\n",
       "      <td>9247</td>\n",
       "      <td>82258</td>\n",
       "      <td>7240</td>\n",
       "      <td>1805</td>\n",
       "      <td>55611</td>\n",
       "      <td>19407</td>\n",
       "      <td>7125</td>\n",
       "      <td>...</td>\n",
       "      <td>100</td>\n",
       "      <td>8.8</td>\n",
       "      <td>67.6</td>\n",
       "      <td>23.6</td>\n",
       "      <td>8.7</td>\n",
       "      <td>8202</td>\n",
       "      <td>4750</td>\n",
       "      <td>4927</td>\n",
       "      <td>3244</td>\n",
       "      <td>435</td>\n",
       "    </tr>\n",
       "    <tr>\n",
       "      <th>1</th>\n",
       "      <td>1500200100000</td>\n",
       "      <td>0100270</td>\n",
       "      <td>BALDWIN COUNTY SCHOOL DISTRICT</td>\n",
       "      <td>31782</td>\n",
       "      <td>372175</td>\n",
       "      <td>25803</td>\n",
       "      <td>6930</td>\n",
       "      <td>159101</td>\n",
       "      <td>187271</td>\n",
       "      <td>53499</td>\n",
       "      <td>...</td>\n",
       "      <td>100</td>\n",
       "      <td>6.9</td>\n",
       "      <td>42.7</td>\n",
       "      <td>50.3</td>\n",
       "      <td>14.4</td>\n",
       "      <td>9284</td>\n",
       "      <td>5305</td>\n",
       "      <td>5411</td>\n",
       "      <td>3488</td>\n",
       "      <td>613</td>\n",
       "    </tr>\n",
       "    <tr>\n",
       "      <th>2</th>\n",
       "      <td>1500300100000</td>\n",
       "      <td>0100300</td>\n",
       "      <td>BARBOUR COUNTY SCHOOL DISTRICT</td>\n",
       "      <td>824</td>\n",
       "      <td>10016</td>\n",
       "      <td>2269</td>\n",
       "      <td>1103</td>\n",
       "      <td>5425</td>\n",
       "      <td>2322</td>\n",
       "      <td>1338</td>\n",
       "      <td>...</td>\n",
       "      <td>100</td>\n",
       "      <td>22.7</td>\n",
       "      <td>54.2</td>\n",
       "      <td>23.2</td>\n",
       "      <td>13.7</td>\n",
       "      <td>12076</td>\n",
       "      <td>6335</td>\n",
       "      <td>6011</td>\n",
       "      <td>3608</td>\n",
       "      <td>562</td>\n",
       "    </tr>\n",
       "    <tr>\n",
       "      <th>3</th>\n",
       "      <td>1500300200000</td>\n",
       "      <td>0101410</td>\n",
       "      <td>EUFAULA CITY SCHOOL DISTRICT</td>\n",
       "      <td>4619</td>\n",
       "      <td>35701</td>\n",
       "      <td>3849</td>\n",
       "      <td>1146</td>\n",
       "      <td>24304</td>\n",
       "      <td>7548</td>\n",
       "      <td>3110</td>\n",
       "      <td>...</td>\n",
       "      <td>100</td>\n",
       "      <td>10.8</td>\n",
       "      <td>68.1</td>\n",
       "      <td>21.1</td>\n",
       "      <td>8.7</td>\n",
       "      <td>5888</td>\n",
       "      <td>3217</td>\n",
       "      <td>3459</td>\n",
       "      <td>2086</td>\n",
       "      <td>371</td>\n",
       "    </tr>\n",
       "    <tr>\n",
       "      <th>4</th>\n",
       "      <td>1500400100000</td>\n",
       "      <td>0100360</td>\n",
       "      <td>BIBB COUNTY SCHOOL DISTRICT</td>\n",
       "      <td>3252</td>\n",
       "      <td>33360</td>\n",
       "      <td>3811</td>\n",
       "      <td>1049</td>\n",
       "      <td>22704</td>\n",
       "      <td>6845</td>\n",
       "      <td>1478</td>\n",
       "      <td>...</td>\n",
       "      <td>100</td>\n",
       "      <td>11.4</td>\n",
       "      <td>68.1</td>\n",
       "      <td>20.5</td>\n",
       "      <td>4.4</td>\n",
       "      <td>9491</td>\n",
       "      <td>5406</td>\n",
       "      <td>5089</td>\n",
       "      <td>3284</td>\n",
       "      <td>645</td>\n",
       "    </tr>\n",
       "  </tbody>\n",
       "</table>\n",
       "<p>5 rows × 22 columns</p>\n",
       "</div>"
      ],
      "text/plain": [
       "        IDCENSUS   NCESID                            NAME  ENROLL  TOTALREV  \\\n",
       "0  1500100100000  0100240  AUTAUGA COUNTY SCHOOL DISTRICT    9247     82258   \n",
       "1  1500200100000  0100270  BALDWIN COUNTY SCHOOL DISTRICT   31782    372175   \n",
       "2  1500300100000  0100300  BARBOUR COUNTY SCHOOL DISTRICT     824     10016   \n",
       "3  1500300200000  0101410    EUFAULA CITY SCHOOL DISTRICT    4619     35701   \n",
       "4  1500400100000  0100360     BIBB COUNTY SCHOOL DISTRICT    3252     33360   \n",
       "\n",
       "   TFEDREV  FEDRCOMP  TSTREV  TLOCREV  LOCRPROP  ...  PCTTOTAL  PCTFTOT  \\\n",
       "0     7240      1805   55611    19407      7125  ...       100      8.8   \n",
       "1    25803      6930  159101   187271     53499  ...       100      6.9   \n",
       "2     2269      1103    5425     2322      1338  ...       100     22.7   \n",
       "3     3849      1146   24304     7548      3110  ...       100     10.8   \n",
       "4     3811      1049   22704     6845      1478  ...       100     11.4   \n",
       "\n",
       "   PCTSTOT  PCTLTOT  PCTLTAXP  PPCSTOT  PPSALWG  PPITOTAL  PPISALWG  PPSPUPIL  \n",
       "0     67.6     23.6       8.7     8202     4750      4927      3244       435  \n",
       "1     42.7     50.3      14.4     9284     5305      5411      3488       613  \n",
       "2     54.2     23.2      13.7    12076     6335      6011      3608       562  \n",
       "3     68.1     21.1       8.7     5888     3217      3459      2086       371  \n",
       "4     68.1     20.5       4.4     9491     5406      5089      3284       645  \n",
       "\n",
       "[5 rows x 22 columns]"
      ]
     },
     "execution_count": 6,
     "metadata": {},
     "output_type": "execute_result"
    }
   ],
   "source": [
    "#Drop all unnecessary columns, keeping only district info and predictors\n",
    "districts = df[['IDCENSUS', 'NCESID','NAME','ENROLL','TOTALREV','TFEDREV','FEDRCOMP','TSTREV','TLOCREV','LOCRPROP','TCURSPND','TCURINST','PCTTOTAL','PCTFTOT','PCTSTOT','PCTLTOT','PCTLTAXP','PPCSTOT','PPSALWG','PPITOTAL','PPISALWG', 'PPSPUPIL']]\n",
    "districts.head()"
   ]
  },
  {
   "cell_type": "code",
   "execution_count": 7,
   "metadata": {},
   "outputs": [
    {
     "data": {
      "text/plain": [
       "(14274, 22)"
      ]
     },
     "execution_count": 7,
     "metadata": {},
     "output_type": "execute_result"
    }
   ],
   "source": [
    "districts.shape"
   ]
  },
  {
   "cell_type": "code",
   "execution_count": 8,
   "metadata": {},
   "outputs": [],
   "source": [
    "#IDs for some states have leading zeroes, which makes them incompatible when we try to merge with achievement data.\n",
    "# We need to create a function to drop the leading zero from the NCESID in the \"districts\" dataframe. \n",
    "test = []\n",
    "for i, element in enumerate(districts['NCESID']): \n",
    "    if element.startswith(\"0\"): \n",
    "        test.append((element[1:])) #Drop first character if the string starts with 0\n",
    "    else: \n",
    "        test.append(element)"
   ]
  },
  {
   "cell_type": "code",
   "execution_count": 9,
   "metadata": {},
   "outputs": [],
   "source": [
    "set1 = set(test)"
   ]
  },
  {
   "cell_type": "code",
   "execution_count": 10,
   "metadata": {
    "scrolled": true
   },
   "outputs": [
    {
     "data": {
      "text/plain": [
       "14274"
      ]
     },
     "execution_count": 10,
     "metadata": {},
     "output_type": "execute_result"
    }
   ],
   "source": [
    "len(test)"
   ]
  },
  {
   "cell_type": "code",
   "execution_count": 11,
   "metadata": {
    "scrolled": false
   },
   "outputs": [
    {
     "data": {
      "text/plain": [
       "14274"
      ]
     },
     "execution_count": 11,
     "metadata": {},
     "output_type": "execute_result"
    }
   ],
   "source": [
    "len(districts)"
   ]
  },
  {
   "cell_type": "code",
   "execution_count": 12,
   "metadata": {},
   "outputs": [
    {
     "name": "stderr",
     "output_type": "stream",
     "text": [
      "<ipython-input-12-572f58041426>:1: SettingWithCopyWarning: \n",
      "A value is trying to be set on a copy of a slice from a DataFrame.\n",
      "Try using .loc[row_indexer,col_indexer] = value instead\n",
      "\n",
      "See the caveats in the documentation: https://pandas.pydata.org/pandas-docs/stable/user_guide/indexing.html#returning-a-view-versus-a-copy\n",
      "  districts['NCESID'] = test\n"
     ]
    },
    {
     "data": {
      "text/html": [
       "<div>\n",
       "<style scoped>\n",
       "    .dataframe tbody tr th:only-of-type {\n",
       "        vertical-align: middle;\n",
       "    }\n",
       "\n",
       "    .dataframe tbody tr th {\n",
       "        vertical-align: top;\n",
       "    }\n",
       "\n",
       "    .dataframe thead th {\n",
       "        text-align: right;\n",
       "    }\n",
       "</style>\n",
       "<table border=\"1\" class=\"dataframe\">\n",
       "  <thead>\n",
       "    <tr style=\"text-align: right;\">\n",
       "      <th></th>\n",
       "      <th>IDCENSUS</th>\n",
       "      <th>NCESID</th>\n",
       "      <th>NAME</th>\n",
       "      <th>ENROLL</th>\n",
       "      <th>TOTALREV</th>\n",
       "      <th>TFEDREV</th>\n",
       "      <th>FEDRCOMP</th>\n",
       "      <th>TSTREV</th>\n",
       "      <th>TLOCREV</th>\n",
       "      <th>LOCRPROP</th>\n",
       "      <th>...</th>\n",
       "      <th>PCTTOTAL</th>\n",
       "      <th>PCTFTOT</th>\n",
       "      <th>PCTSTOT</th>\n",
       "      <th>PCTLTOT</th>\n",
       "      <th>PCTLTAXP</th>\n",
       "      <th>PPCSTOT</th>\n",
       "      <th>PPSALWG</th>\n",
       "      <th>PPITOTAL</th>\n",
       "      <th>PPISALWG</th>\n",
       "      <th>PPSPUPIL</th>\n",
       "    </tr>\n",
       "  </thead>\n",
       "  <tbody>\n",
       "    <tr>\n",
       "      <th>0</th>\n",
       "      <td>1500100100000</td>\n",
       "      <td>100240</td>\n",
       "      <td>AUTAUGA COUNTY SCHOOL DISTRICT</td>\n",
       "      <td>9247</td>\n",
       "      <td>82258</td>\n",
       "      <td>7240</td>\n",
       "      <td>1805</td>\n",
       "      <td>55611</td>\n",
       "      <td>19407</td>\n",
       "      <td>7125</td>\n",
       "      <td>...</td>\n",
       "      <td>100</td>\n",
       "      <td>8.8</td>\n",
       "      <td>67.6</td>\n",
       "      <td>23.6</td>\n",
       "      <td>8.7</td>\n",
       "      <td>8202</td>\n",
       "      <td>4750</td>\n",
       "      <td>4927</td>\n",
       "      <td>3244</td>\n",
       "      <td>435</td>\n",
       "    </tr>\n",
       "    <tr>\n",
       "      <th>1</th>\n",
       "      <td>1500200100000</td>\n",
       "      <td>100270</td>\n",
       "      <td>BALDWIN COUNTY SCHOOL DISTRICT</td>\n",
       "      <td>31782</td>\n",
       "      <td>372175</td>\n",
       "      <td>25803</td>\n",
       "      <td>6930</td>\n",
       "      <td>159101</td>\n",
       "      <td>187271</td>\n",
       "      <td>53499</td>\n",
       "      <td>...</td>\n",
       "      <td>100</td>\n",
       "      <td>6.9</td>\n",
       "      <td>42.7</td>\n",
       "      <td>50.3</td>\n",
       "      <td>14.4</td>\n",
       "      <td>9284</td>\n",
       "      <td>5305</td>\n",
       "      <td>5411</td>\n",
       "      <td>3488</td>\n",
       "      <td>613</td>\n",
       "    </tr>\n",
       "    <tr>\n",
       "      <th>2</th>\n",
       "      <td>1500300100000</td>\n",
       "      <td>100300</td>\n",
       "      <td>BARBOUR COUNTY SCHOOL DISTRICT</td>\n",
       "      <td>824</td>\n",
       "      <td>10016</td>\n",
       "      <td>2269</td>\n",
       "      <td>1103</td>\n",
       "      <td>5425</td>\n",
       "      <td>2322</td>\n",
       "      <td>1338</td>\n",
       "      <td>...</td>\n",
       "      <td>100</td>\n",
       "      <td>22.7</td>\n",
       "      <td>54.2</td>\n",
       "      <td>23.2</td>\n",
       "      <td>13.7</td>\n",
       "      <td>12076</td>\n",
       "      <td>6335</td>\n",
       "      <td>6011</td>\n",
       "      <td>3608</td>\n",
       "      <td>562</td>\n",
       "    </tr>\n",
       "    <tr>\n",
       "      <th>3</th>\n",
       "      <td>1500300200000</td>\n",
       "      <td>101410</td>\n",
       "      <td>EUFAULA CITY SCHOOL DISTRICT</td>\n",
       "      <td>4619</td>\n",
       "      <td>35701</td>\n",
       "      <td>3849</td>\n",
       "      <td>1146</td>\n",
       "      <td>24304</td>\n",
       "      <td>7548</td>\n",
       "      <td>3110</td>\n",
       "      <td>...</td>\n",
       "      <td>100</td>\n",
       "      <td>10.8</td>\n",
       "      <td>68.1</td>\n",
       "      <td>21.1</td>\n",
       "      <td>8.7</td>\n",
       "      <td>5888</td>\n",
       "      <td>3217</td>\n",
       "      <td>3459</td>\n",
       "      <td>2086</td>\n",
       "      <td>371</td>\n",
       "    </tr>\n",
       "    <tr>\n",
       "      <th>4</th>\n",
       "      <td>1500400100000</td>\n",
       "      <td>100360</td>\n",
       "      <td>BIBB COUNTY SCHOOL DISTRICT</td>\n",
       "      <td>3252</td>\n",
       "      <td>33360</td>\n",
       "      <td>3811</td>\n",
       "      <td>1049</td>\n",
       "      <td>22704</td>\n",
       "      <td>6845</td>\n",
       "      <td>1478</td>\n",
       "      <td>...</td>\n",
       "      <td>100</td>\n",
       "      <td>11.4</td>\n",
       "      <td>68.1</td>\n",
       "      <td>20.5</td>\n",
       "      <td>4.4</td>\n",
       "      <td>9491</td>\n",
       "      <td>5406</td>\n",
       "      <td>5089</td>\n",
       "      <td>3284</td>\n",
       "      <td>645</td>\n",
       "    </tr>\n",
       "  </tbody>\n",
       "</table>\n",
       "<p>5 rows × 22 columns</p>\n",
       "</div>"
      ],
      "text/plain": [
       "        IDCENSUS  NCESID                            NAME  ENROLL  TOTALREV  \\\n",
       "0  1500100100000  100240  AUTAUGA COUNTY SCHOOL DISTRICT    9247     82258   \n",
       "1  1500200100000  100270  BALDWIN COUNTY SCHOOL DISTRICT   31782    372175   \n",
       "2  1500300100000  100300  BARBOUR COUNTY SCHOOL DISTRICT     824     10016   \n",
       "3  1500300200000  101410    EUFAULA CITY SCHOOL DISTRICT    4619     35701   \n",
       "4  1500400100000  100360     BIBB COUNTY SCHOOL DISTRICT    3252     33360   \n",
       "\n",
       "   TFEDREV  FEDRCOMP  TSTREV  TLOCREV  LOCRPROP  ...  PCTTOTAL  PCTFTOT  \\\n",
       "0     7240      1805   55611    19407      7125  ...       100      8.8   \n",
       "1    25803      6930  159101   187271     53499  ...       100      6.9   \n",
       "2     2269      1103    5425     2322      1338  ...       100     22.7   \n",
       "3     3849      1146   24304     7548      3110  ...       100     10.8   \n",
       "4     3811      1049   22704     6845      1478  ...       100     11.4   \n",
       "\n",
       "   PCTSTOT  PCTLTOT  PCTLTAXP  PPCSTOT  PPSALWG  PPITOTAL  PPISALWG  PPSPUPIL  \n",
       "0     67.6     23.6       8.7     8202     4750      4927      3244       435  \n",
       "1     42.7     50.3      14.4     9284     5305      5411      3488       613  \n",
       "2     54.2     23.2      13.7    12076     6335      6011      3608       562  \n",
       "3     68.1     21.1       8.7     5888     3217      3459      2086       371  \n",
       "4     68.1     20.5       4.4     9491     5406      5089      3284       645  \n",
       "\n",
       "[5 rows x 22 columns]"
      ]
     },
     "execution_count": 12,
     "metadata": {},
     "output_type": "execute_result"
    }
   ],
   "source": [
    "districts['NCESID'] = test\n",
    "districts.head()"
   ]
  },
  {
   "cell_type": "code",
   "execution_count": 13,
   "metadata": {
    "scrolled": true
   },
   "outputs": [
    {
     "name": "stderr",
     "output_type": "stream",
     "text": [
      "/opt/anaconda3/envs/learn-env/lib/python3.8/site-packages/IPython/core/interactiveshell.py:3145: DtypeWarning: Columns (18,20,22,26,36,38,40,42,44,46,50,52,54,98,108,112,114,122,124,126,128,130,136,138,140,144,150,152,154,156,158,162,170,180,182,184,192,194,236,240,248,250,254,256,258,260) have mixed types.Specify dtype option on import or set low_memory=False.\n",
      "  has_raised = await self.run_ast_nodes(code_ast.body, cell_name,\n"
     ]
    }
   ],
   "source": [
    "# Now, import reading assessment  data\n",
    "reading = pd.read_csv('lea_reading.csv')"
   ]
  },
  {
   "cell_type": "code",
   "execution_count": 14,
   "metadata": {
    "scrolled": false
   },
   "outputs": [
    {
     "data": {
      "text/html": [
       "<div>\n",
       "<style scoped>\n",
       "    .dataframe tbody tr th:only-of-type {\n",
       "        vertical-align: middle;\n",
       "    }\n",
       "\n",
       "    .dataframe tbody tr th {\n",
       "        vertical-align: top;\n",
       "    }\n",
       "\n",
       "    .dataframe thead th {\n",
       "        text-align: right;\n",
       "    }\n",
       "</style>\n",
       "<table border=\"1\" class=\"dataframe\">\n",
       "  <thead>\n",
       "    <tr style=\"text-align: right;\">\n",
       "      <th></th>\n",
       "      <th>STNAM</th>\n",
       "      <th>FIPST</th>\n",
       "      <th>LEANM</th>\n",
       "      <th>LEAID</th>\n",
       "      <th>ST_LEAID</th>\n",
       "      <th>DATE_CUR</th>\n",
       "      <th>ALL_RLA00numvalid_1819</th>\n",
       "      <th>ALL_RLA00pctprof_1819</th>\n",
       "      <th>MAM_RLA00numvalid_1819</th>\n",
       "      <th>MAM_RLA00pctprof_1819</th>\n",
       "      <th>...</th>\n",
       "      <th>MIL_RLA05numvalid_1819</th>\n",
       "      <th>MIL_RLA05pctprof_1819</th>\n",
       "      <th>MIL_RLA06numvalid_1819</th>\n",
       "      <th>MIL_RLA06pctprof_1819</th>\n",
       "      <th>MIL_RLA07numvalid_1819</th>\n",
       "      <th>MIL_RLA07pctprof_1819</th>\n",
       "      <th>MIL_RLA08numvalid_1819</th>\n",
       "      <th>MIL_RLA08pctprof_1819</th>\n",
       "      <th>MIL_RLAHSnumvalid_1819</th>\n",
       "      <th>MIL_RLAHSpctprof_1819</th>\n",
       "    </tr>\n",
       "  </thead>\n",
       "  <tbody>\n",
       "    <tr>\n",
       "      <th>0</th>\n",
       "      <td>ALABAMA</td>\n",
       "      <td>1</td>\n",
       "      <td>Albertville City</td>\n",
       "      <td>100005</td>\n",
       "      <td>AL-101</td>\n",
       "      <td>13AUG20</td>\n",
       "      <td>2869</td>\n",
       "      <td>38</td>\n",
       "      <td>8</td>\n",
       "      <td>GE50</td>\n",
       "      <td>...</td>\n",
       "      <td>9</td>\n",
       "      <td>GE50</td>\n",
       "      <td>11</td>\n",
       "      <td>GE50</td>\n",
       "      <td>6</td>\n",
       "      <td>GE50</td>\n",
       "      <td>14</td>\n",
       "      <td>GE50</td>\n",
       "      <td>7</td>\n",
       "      <td>LT50</td>\n",
       "    </tr>\n",
       "    <tr>\n",
       "      <th>1</th>\n",
       "      <td>ALABAMA</td>\n",
       "      <td>1</td>\n",
       "      <td>Marshall County</td>\n",
       "      <td>100006</td>\n",
       "      <td>AL-048</td>\n",
       "      <td>13AUG20</td>\n",
       "      <td>2938</td>\n",
       "      <td>36</td>\n",
       "      <td>13</td>\n",
       "      <td>LT50</td>\n",
       "      <td>...</td>\n",
       "      <td>NaN</td>\n",
       "      <td>NaN</td>\n",
       "      <td>1</td>\n",
       "      <td>PS</td>\n",
       "      <td>NaN</td>\n",
       "      <td>NaN</td>\n",
       "      <td>2</td>\n",
       "      <td>PS</td>\n",
       "      <td>1</td>\n",
       "      <td>PS</td>\n",
       "    </tr>\n",
       "    <tr>\n",
       "      <th>2</th>\n",
       "      <td>ALABAMA</td>\n",
       "      <td>1</td>\n",
       "      <td>Hoover City</td>\n",
       "      <td>100007</td>\n",
       "      <td>AL-158</td>\n",
       "      <td>13AUG20</td>\n",
       "      <td>7442</td>\n",
       "      <td>65</td>\n",
       "      <td>5</td>\n",
       "      <td>PS</td>\n",
       "      <td>...</td>\n",
       "      <td>20</td>\n",
       "      <td>60-79</td>\n",
       "      <td>15</td>\n",
       "      <td>GE50</td>\n",
       "      <td>9</td>\n",
       "      <td>GE50</td>\n",
       "      <td>11</td>\n",
       "      <td>GE50</td>\n",
       "      <td>9</td>\n",
       "      <td>GE50</td>\n",
       "    </tr>\n",
       "    <tr>\n",
       "      <th>3</th>\n",
       "      <td>ALABAMA</td>\n",
       "      <td>1</td>\n",
       "      <td>Madison City</td>\n",
       "      <td>100008</td>\n",
       "      <td>AL-169</td>\n",
       "      <td>13AUG20</td>\n",
       "      <td>5867</td>\n",
       "      <td>73</td>\n",
       "      <td>39</td>\n",
       "      <td>70-79</td>\n",
       "      <td>...</td>\n",
       "      <td>26</td>\n",
       "      <td>GE80</td>\n",
       "      <td>30</td>\n",
       "      <td>GE80</td>\n",
       "      <td>33</td>\n",
       "      <td>60-69</td>\n",
       "      <td>37</td>\n",
       "      <td>60-69</td>\n",
       "      <td>30</td>\n",
       "      <td>60-79</td>\n",
       "    </tr>\n",
       "    <tr>\n",
       "      <th>4</th>\n",
       "      <td>ALABAMA</td>\n",
       "      <td>1</td>\n",
       "      <td>Leeds City</td>\n",
       "      <td>100011</td>\n",
       "      <td>AL-167</td>\n",
       "      <td>13AUG20</td>\n",
       "      <td>1064</td>\n",
       "      <td>42</td>\n",
       "      <td>1</td>\n",
       "      <td>PS</td>\n",
       "      <td>...</td>\n",
       "      <td>1</td>\n",
       "      <td>PS</td>\n",
       "      <td>7</td>\n",
       "      <td>LT50</td>\n",
       "      <td>NaN</td>\n",
       "      <td>NaN</td>\n",
       "      <td>2</td>\n",
       "      <td>PS</td>\n",
       "      <td>3</td>\n",
       "      <td>PS</td>\n",
       "    </tr>\n",
       "  </tbody>\n",
       "</table>\n",
       "<p>5 rows × 262 columns</p>\n",
       "</div>"
      ],
      "text/plain": [
       "     STNAM  FIPST             LEANM   LEAID ST_LEAID DATE_CUR  \\\n",
       "0  ALABAMA      1  Albertville City  100005   AL-101  13AUG20   \n",
       "1  ALABAMA      1   Marshall County  100006   AL-048  13AUG20   \n",
       "2  ALABAMA      1       Hoover City  100007   AL-158  13AUG20   \n",
       "3  ALABAMA      1      Madison City  100008   AL-169  13AUG20   \n",
       "4  ALABAMA      1        Leeds City  100011   AL-167  13AUG20   \n",
       "\n",
       "   ALL_RLA00numvalid_1819 ALL_RLA00pctprof_1819 MAM_RLA00numvalid_1819  \\\n",
       "0                    2869                    38                      8   \n",
       "1                    2938                    36                     13   \n",
       "2                    7442                    65                      5   \n",
       "3                    5867                    73                     39   \n",
       "4                    1064                    42                      1   \n",
       "\n",
       "  MAM_RLA00pctprof_1819  ... MIL_RLA05numvalid_1819 MIL_RLA05pctprof_1819  \\\n",
       "0                  GE50  ...                      9                  GE50   \n",
       "1                  LT50  ...                    NaN                   NaN   \n",
       "2                    PS  ...                     20                 60-79   \n",
       "3                 70-79  ...                     26                  GE80   \n",
       "4                    PS  ...                      1                    PS   \n",
       "\n",
       "  MIL_RLA06numvalid_1819 MIL_RLA06pctprof_1819 MIL_RLA07numvalid_1819  \\\n",
       "0                     11                  GE50                      6   \n",
       "1                      1                    PS                    NaN   \n",
       "2                     15                  GE50                      9   \n",
       "3                     30                  GE80                     33   \n",
       "4                      7                  LT50                    NaN   \n",
       "\n",
       "  MIL_RLA07pctprof_1819 MIL_RLA08numvalid_1819 MIL_RLA08pctprof_1819  \\\n",
       "0                  GE50                     14                  GE50   \n",
       "1                   NaN                      2                    PS   \n",
       "2                  GE50                     11                  GE50   \n",
       "3                 60-69                     37                 60-69   \n",
       "4                   NaN                      2                    PS   \n",
       "\n",
       "  MIL_RLAHSnumvalid_1819 MIL_RLAHSpctprof_1819  \n",
       "0                      7                  LT50  \n",
       "1                      1                    PS  \n",
       "2                      9                  GE50  \n",
       "3                     30                 60-79  \n",
       "4                      3                    PS  \n",
       "\n",
       "[5 rows x 262 columns]"
      ]
     },
     "execution_count": 14,
     "metadata": {},
     "output_type": "execute_result"
    }
   ],
   "source": [
    "reading.head()"
   ]
  },
  {
   "cell_type": "markdown",
   "metadata": {},
   "source": [
    "This dataframe contains a ton of columns that divide students into subgroups. For our purposes we're interested in reading achievement data for all kids who tested in that district during the 2018-2019 school year. \n",
    "- The \"ALL_RLA00numvalid_1819\" column gives the total number of kids in 3rd-12th grade who completed a reading assessment and for whom a proficiency level was assigned. \n",
    "- The \"ALL_RLA00pctprof_1819\" column gives the percentage of students who scored at or above proficient in reading.\n",
    "\n",
    "Because I taught 4th grade ELA and am partial to it (it's an important year for reading!), I'm also interested in 4th grade specific reading data. \n",
    "- The \"ALL_RLA04numvalid_1819\" gives the total number of 4th graders who sat for a reading assessment and for whom a proficiency level was assigned. \n",
    "- The \"ALL_RLA04pctprof_1819\" gives the percentage of 4th grade students who scored at or above proficient in reading. "
   ]
  },
  {
   "cell_type": "code",
   "execution_count": 15,
   "metadata": {
    "scrolled": false
   },
   "outputs": [
    {
     "data": {
      "text/html": [
       "<div>\n",
       "<style scoped>\n",
       "    .dataframe tbody tr th:only-of-type {\n",
       "        vertical-align: middle;\n",
       "    }\n",
       "\n",
       "    .dataframe tbody tr th {\n",
       "        vertical-align: top;\n",
       "    }\n",
       "\n",
       "    .dataframe thead th {\n",
       "        text-align: right;\n",
       "    }\n",
       "</style>\n",
       "<table border=\"1\" class=\"dataframe\">\n",
       "  <thead>\n",
       "    <tr style=\"text-align: right;\">\n",
       "      <th></th>\n",
       "      <th>STNAM</th>\n",
       "      <th>LEANM</th>\n",
       "      <th>LEAID</th>\n",
       "      <th>ALL_RLA00numvalid_1819</th>\n",
       "      <th>ALL_RLA00pctprof_1819</th>\n",
       "      <th>ALL_RLA04numvalid_1819</th>\n",
       "      <th>ALL_RLA04pctprof_1819</th>\n",
       "    </tr>\n",
       "  </thead>\n",
       "  <tbody>\n",
       "    <tr>\n",
       "      <th>0</th>\n",
       "      <td>ALABAMA</td>\n",
       "      <td>Albertville City</td>\n",
       "      <td>100005</td>\n",
       "      <td>2869</td>\n",
       "      <td>38</td>\n",
       "      <td>442</td>\n",
       "      <td>41</td>\n",
       "    </tr>\n",
       "    <tr>\n",
       "      <th>1</th>\n",
       "      <td>ALABAMA</td>\n",
       "      <td>Marshall County</td>\n",
       "      <td>100006</td>\n",
       "      <td>2938</td>\n",
       "      <td>36</td>\n",
       "      <td>417</td>\n",
       "      <td>33</td>\n",
       "    </tr>\n",
       "    <tr>\n",
       "      <th>2</th>\n",
       "      <td>ALABAMA</td>\n",
       "      <td>Hoover City</td>\n",
       "      <td>100007</td>\n",
       "      <td>7442</td>\n",
       "      <td>65</td>\n",
       "      <td>1049</td>\n",
       "      <td>64</td>\n",
       "    </tr>\n",
       "    <tr>\n",
       "      <th>3</th>\n",
       "      <td>ALABAMA</td>\n",
       "      <td>Madison City</td>\n",
       "      <td>100008</td>\n",
       "      <td>5867</td>\n",
       "      <td>73</td>\n",
       "      <td>768</td>\n",
       "      <td>78</td>\n",
       "    </tr>\n",
       "    <tr>\n",
       "      <th>4</th>\n",
       "      <td>ALABAMA</td>\n",
       "      <td>Leeds City</td>\n",
       "      <td>100011</td>\n",
       "      <td>1064</td>\n",
       "      <td>42</td>\n",
       "      <td>148</td>\n",
       "      <td>35-39</td>\n",
       "    </tr>\n",
       "  </tbody>\n",
       "</table>\n",
       "</div>"
      ],
      "text/plain": [
       "     STNAM             LEANM   LEAID  ALL_RLA00numvalid_1819  \\\n",
       "0  ALABAMA  Albertville City  100005                    2869   \n",
       "1  ALABAMA   Marshall County  100006                    2938   \n",
       "2  ALABAMA       Hoover City  100007                    7442   \n",
       "3  ALABAMA      Madison City  100008                    5867   \n",
       "4  ALABAMA        Leeds City  100011                    1064   \n",
       "\n",
       "  ALL_RLA00pctprof_1819 ALL_RLA04numvalid_1819 ALL_RLA04pctprof_1819  \n",
       "0                    38                    442                    41  \n",
       "1                    36                    417                    33  \n",
       "2                    65                   1049                    64  \n",
       "3                    73                    768                    78  \n",
       "4                    42                    148                 35-39  "
      ]
     },
     "execution_count": 15,
     "metadata": {},
     "output_type": "execute_result"
    }
   ],
   "source": [
    "# Create new dataframe that selects the target columns mentioned above, along with any important location data \n",
    "achievement = reading[['STNAM','LEANM', 'LEAID','ALL_RLA00numvalid_1819','ALL_RLA00pctprof_1819','ALL_RLA04numvalid_1819','ALL_RLA04pctprof_1819']]\n",
    "achievement.head()"
   ]
  },
  {
   "cell_type": "code",
   "execution_count": 16,
   "metadata": {
    "scrolled": true
   },
   "outputs": [
    {
     "name": "stdout",
     "output_type": "stream",
     "text": [
      "<class 'pandas.core.frame.DataFrame'>\n",
      "RangeIndex: 17396 entries, 0 to 17395\n",
      "Data columns (total 7 columns):\n",
      " #   Column                  Non-Null Count  Dtype \n",
      "---  ------                  --------------  ----- \n",
      " 0   STNAM                   17396 non-null  object\n",
      " 1   LEANM                   17396 non-null  object\n",
      " 2   LEAID                   17396 non-null  int64 \n",
      " 3   ALL_RLA00numvalid_1819  17396 non-null  int64 \n",
      " 4   ALL_RLA00pctprof_1819   17396 non-null  object\n",
      " 5   ALL_RLA04numvalid_1819  15337 non-null  object\n",
      " 6   ALL_RLA04pctprof_1819   15298 non-null  object\n",
      "dtypes: int64(2), object(5)\n",
      "memory usage: 951.5+ KB\n"
     ]
    }
   ],
   "source": [
    "achievement.info()"
   ]
  },
  {
   "cell_type": "markdown",
   "metadata": {},
   "source": [
    "After some reading I found that the LEA ID in the achievement data is the same as the NCES ID in the expenditure data. We should be safe to merge our financials with our achievement data using this ID. However, we can't merge a string and an integer column together so first we need to convert the \"LEAID\" to string format."
   ]
  },
  {
   "cell_type": "code",
   "execution_count": 17,
   "metadata": {},
   "outputs": [
    {
     "name": "stderr",
     "output_type": "stream",
     "text": [
      "<ipython-input-17-11fa45cbc62e>:1: SettingWithCopyWarning: \n",
      "A value is trying to be set on a copy of a slice from a DataFrame.\n",
      "Try using .loc[row_indexer,col_indexer] = value instead\n",
      "\n",
      "See the caveats in the documentation: https://pandas.pydata.org/pandas-docs/stable/user_guide/indexing.html#returning-a-view-versus-a-copy\n",
      "  achievement['LEAID'] = achievement['LEAID'].astype(str)\n"
     ]
    }
   ],
   "source": [
    "achievement['LEAID'] = achievement['LEAID'].astype(str)"
   ]
  },
  {
   "cell_type": "code",
   "execution_count": 18,
   "metadata": {
    "scrolled": true
   },
   "outputs": [
    {
     "data": {
      "text/html": [
       "<div>\n",
       "<style scoped>\n",
       "    .dataframe tbody tr th:only-of-type {\n",
       "        vertical-align: middle;\n",
       "    }\n",
       "\n",
       "    .dataframe tbody tr th {\n",
       "        vertical-align: top;\n",
       "    }\n",
       "\n",
       "    .dataframe thead th {\n",
       "        text-align: right;\n",
       "    }\n",
       "</style>\n",
       "<table border=\"1\" class=\"dataframe\">\n",
       "  <thead>\n",
       "    <tr style=\"text-align: right;\">\n",
       "      <th></th>\n",
       "      <th>IDCENSUS</th>\n",
       "      <th>NCESID</th>\n",
       "      <th>NAME</th>\n",
       "      <th>ENROLL</th>\n",
       "      <th>TOTALREV</th>\n",
       "      <th>TFEDREV</th>\n",
       "      <th>FEDRCOMP</th>\n",
       "      <th>TSTREV</th>\n",
       "      <th>TLOCREV</th>\n",
       "      <th>LOCRPROP</th>\n",
       "      <th>...</th>\n",
       "      <th>PPITOTAL</th>\n",
       "      <th>PPISALWG</th>\n",
       "      <th>PPSPUPIL</th>\n",
       "      <th>STNAM</th>\n",
       "      <th>LEANM</th>\n",
       "      <th>LEAID</th>\n",
       "      <th>ALL_RLA00numvalid_1819</th>\n",
       "      <th>ALL_RLA00pctprof_1819</th>\n",
       "      <th>ALL_RLA04numvalid_1819</th>\n",
       "      <th>ALL_RLA04pctprof_1819</th>\n",
       "    </tr>\n",
       "  </thead>\n",
       "  <tbody>\n",
       "    <tr>\n",
       "      <th>0</th>\n",
       "      <td>1500100100000</td>\n",
       "      <td>100240</td>\n",
       "      <td>AUTAUGA COUNTY SCHOOL DISTRICT</td>\n",
       "      <td>9247</td>\n",
       "      <td>82258</td>\n",
       "      <td>7240</td>\n",
       "      <td>1805</td>\n",
       "      <td>55611</td>\n",
       "      <td>19407</td>\n",
       "      <td>7125</td>\n",
       "      <td>...</td>\n",
       "      <td>4927</td>\n",
       "      <td>3244</td>\n",
       "      <td>435</td>\n",
       "      <td>ALABAMA</td>\n",
       "      <td>Autauga County</td>\n",
       "      <td>100240</td>\n",
       "      <td>4915</td>\n",
       "      <td>55</td>\n",
       "      <td>765</td>\n",
       "      <td>58</td>\n",
       "    </tr>\n",
       "    <tr>\n",
       "      <th>1</th>\n",
       "      <td>1500200100000</td>\n",
       "      <td>100270</td>\n",
       "      <td>BALDWIN COUNTY SCHOOL DISTRICT</td>\n",
       "      <td>31782</td>\n",
       "      <td>372175</td>\n",
       "      <td>25803</td>\n",
       "      <td>6930</td>\n",
       "      <td>159101</td>\n",
       "      <td>187271</td>\n",
       "      <td>53499</td>\n",
       "      <td>...</td>\n",
       "      <td>5411</td>\n",
       "      <td>3488</td>\n",
       "      <td>613</td>\n",
       "      <td>ALABAMA</td>\n",
       "      <td>Baldwin County</td>\n",
       "      <td>100270</td>\n",
       "      <td>17226</td>\n",
       "      <td>56</td>\n",
       "      <td>2462</td>\n",
       "      <td>57</td>\n",
       "    </tr>\n",
       "    <tr>\n",
       "      <th>2</th>\n",
       "      <td>1500300100000</td>\n",
       "      <td>100300</td>\n",
       "      <td>BARBOUR COUNTY SCHOOL DISTRICT</td>\n",
       "      <td>824</td>\n",
       "      <td>10016</td>\n",
       "      <td>2269</td>\n",
       "      <td>1103</td>\n",
       "      <td>5425</td>\n",
       "      <td>2322</td>\n",
       "      <td>1338</td>\n",
       "      <td>...</td>\n",
       "      <td>6011</td>\n",
       "      <td>3608</td>\n",
       "      <td>562</td>\n",
       "      <td>ALABAMA</td>\n",
       "      <td>Barbour County</td>\n",
       "      <td>100300</td>\n",
       "      <td>377</td>\n",
       "      <td>16</td>\n",
       "      <td>61</td>\n",
       "      <td>30-34</td>\n",
       "    </tr>\n",
       "    <tr>\n",
       "      <th>3</th>\n",
       "      <td>1500300200000</td>\n",
       "      <td>101410</td>\n",
       "      <td>EUFAULA CITY SCHOOL DISTRICT</td>\n",
       "      <td>4619</td>\n",
       "      <td>35701</td>\n",
       "      <td>3849</td>\n",
       "      <td>1146</td>\n",
       "      <td>24304</td>\n",
       "      <td>7548</td>\n",
       "      <td>3110</td>\n",
       "      <td>...</td>\n",
       "      <td>3459</td>\n",
       "      <td>2086</td>\n",
       "      <td>371</td>\n",
       "      <td>ALABAMA</td>\n",
       "      <td>Eufaula City</td>\n",
       "      <td>101410</td>\n",
       "      <td>3107</td>\n",
       "      <td>34</td>\n",
       "      <td>392</td>\n",
       "      <td>34</td>\n",
       "    </tr>\n",
       "    <tr>\n",
       "      <th>4</th>\n",
       "      <td>1500400100000</td>\n",
       "      <td>100360</td>\n",
       "      <td>BIBB COUNTY SCHOOL DISTRICT</td>\n",
       "      <td>3252</td>\n",
       "      <td>33360</td>\n",
       "      <td>3811</td>\n",
       "      <td>1049</td>\n",
       "      <td>22704</td>\n",
       "      <td>6845</td>\n",
       "      <td>1478</td>\n",
       "      <td>...</td>\n",
       "      <td>5089</td>\n",
       "      <td>3284</td>\n",
       "      <td>645</td>\n",
       "      <td>ALABAMA</td>\n",
       "      <td>Bibb County</td>\n",
       "      <td>100360</td>\n",
       "      <td>1657</td>\n",
       "      <td>37</td>\n",
       "      <td>219</td>\n",
       "      <td>35-39</td>\n",
       "    </tr>\n",
       "  </tbody>\n",
       "</table>\n",
       "<p>5 rows × 29 columns</p>\n",
       "</div>"
      ],
      "text/plain": [
       "        IDCENSUS  NCESID                            NAME  ENROLL  TOTALREV  \\\n",
       "0  1500100100000  100240  AUTAUGA COUNTY SCHOOL DISTRICT    9247     82258   \n",
       "1  1500200100000  100270  BALDWIN COUNTY SCHOOL DISTRICT   31782    372175   \n",
       "2  1500300100000  100300  BARBOUR COUNTY SCHOOL DISTRICT     824     10016   \n",
       "3  1500300200000  101410    EUFAULA CITY SCHOOL DISTRICT    4619     35701   \n",
       "4  1500400100000  100360     BIBB COUNTY SCHOOL DISTRICT    3252     33360   \n",
       "\n",
       "   TFEDREV  FEDRCOMP  TSTREV  TLOCREV  LOCRPROP  ...  PPITOTAL  PPISALWG  \\\n",
       "0     7240      1805   55611    19407      7125  ...      4927      3244   \n",
       "1    25803      6930  159101   187271     53499  ...      5411      3488   \n",
       "2     2269      1103    5425     2322      1338  ...      6011      3608   \n",
       "3     3849      1146   24304     7548      3110  ...      3459      2086   \n",
       "4     3811      1049   22704     6845      1478  ...      5089      3284   \n",
       "\n",
       "   PPSPUPIL    STNAM           LEANM   LEAID  ALL_RLA00numvalid_1819  \\\n",
       "0       435  ALABAMA  Autauga County  100240                    4915   \n",
       "1       613  ALABAMA  Baldwin County  100270                   17226   \n",
       "2       562  ALABAMA  Barbour County  100300                     377   \n",
       "3       371  ALABAMA    Eufaula City  101410                    3107   \n",
       "4       645  ALABAMA     Bibb County  100360                    1657   \n",
       "\n",
       "   ALL_RLA00pctprof_1819  ALL_RLA04numvalid_1819  ALL_RLA04pctprof_1819  \n",
       "0                     55                     765                     58  \n",
       "1                     56                    2462                     57  \n",
       "2                     16                      61                  30-34  \n",
       "3                     34                     392                     34  \n",
       "4                     37                     219                  35-39  \n",
       "\n",
       "[5 rows x 29 columns]"
      ]
     },
     "execution_count": 18,
     "metadata": {},
     "output_type": "execute_result"
    }
   ],
   "source": [
    "final = pd.merge(districts, achievement, left_on='NCESID', right_on='LEAID')\n",
    "final.head()"
   ]
  },
  {
   "cell_type": "code",
   "execution_count": 19,
   "metadata": {},
   "outputs": [],
   "source": [
    "# Drop redundant columns\n",
    "final = final.drop(['LEANM','LEAID'], axis=1)"
   ]
  },
  {
   "cell_type": "code",
   "execution_count": 20,
   "metadata": {
    "scrolled": true
   },
   "outputs": [
    {
     "data": {
      "text/plain": [
       "['IDCENSUS',\n",
       " 'NCESID',\n",
       " 'NAME',\n",
       " 'ENROLL',\n",
       " 'TOTALREV',\n",
       " 'TFEDREV',\n",
       " 'FEDRCOMP',\n",
       " 'TSTREV',\n",
       " 'TLOCREV',\n",
       " 'LOCRPROP',\n",
       " 'TCURSPND',\n",
       " 'TCURINST',\n",
       " 'PCTTOTAL',\n",
       " 'PCTFTOT',\n",
       " 'PCTSTOT',\n",
       " 'PCTLTOT',\n",
       " 'PCTLTAXP',\n",
       " 'PPCSTOT',\n",
       " 'PPSALWG',\n",
       " 'PPITOTAL',\n",
       " 'PPISALWG',\n",
       " 'PPSPUPIL',\n",
       " 'STNAM',\n",
       " 'ALL_RLA00numvalid_1819',\n",
       " 'ALL_RLA00pctprof_1819',\n",
       " 'ALL_RLA04numvalid_1819',\n",
       " 'ALL_RLA04pctprof_1819']"
      ]
     },
     "execution_count": 20,
     "metadata": {},
     "output_type": "execute_result"
    }
   ],
   "source": [
    "# Move some columns around\n",
    "list(final.columns)"
   ]
  },
  {
   "cell_type": "code",
   "execution_count": 21,
   "metadata": {},
   "outputs": [],
   "source": [
    "final = final[['IDCENSUS',\n",
    " 'NCESID',\n",
    " 'STNAM',\n",
    " 'NAME',\n",
    " 'ENROLL',\n",
    " 'ALL_RLA00numvalid_1819',\n",
    " 'ALL_RLA00pctprof_1819',\n",
    " 'ALL_RLA04numvalid_1819',\n",
    " 'ALL_RLA04pctprof_1819',              \n",
    " 'TOTALREV',\n",
    " 'TFEDREV',\n",
    " 'FEDRCOMP',\n",
    " 'TSTREV',\n",
    " 'TLOCREV',\n",
    " 'LOCRPROP',\n",
    " 'TCURSPND',\n",
    " 'TCURINST',\n",
    " 'PCTTOTAL',\n",
    " 'PCTFTOT',\n",
    " 'PCTSTOT',\n",
    " 'PCTLTOT',\n",
    " 'PCTLTAXP',\n",
    " 'PPCSTOT',\n",
    " 'PPSALWG',\n",
    " 'PPITOTAL',\n",
    " 'PPISALWG',\n",
    " 'PPSPUPIL'\n",
    " ]]"
   ]
  },
  {
   "cell_type": "code",
   "execution_count": 22,
   "metadata": {},
   "outputs": [
    {
     "data": {
      "text/html": [
       "<div>\n",
       "<style scoped>\n",
       "    .dataframe tbody tr th:only-of-type {\n",
       "        vertical-align: middle;\n",
       "    }\n",
       "\n",
       "    .dataframe tbody tr th {\n",
       "        vertical-align: top;\n",
       "    }\n",
       "\n",
       "    .dataframe thead th {\n",
       "        text-align: right;\n",
       "    }\n",
       "</style>\n",
       "<table border=\"1\" class=\"dataframe\">\n",
       "  <thead>\n",
       "    <tr style=\"text-align: right;\">\n",
       "      <th></th>\n",
       "      <th>IDCENSUS</th>\n",
       "      <th>NCESID</th>\n",
       "      <th>STNAM</th>\n",
       "      <th>NAME</th>\n",
       "      <th>ENROLL</th>\n",
       "      <th>ALL_RLA00numvalid_1819</th>\n",
       "      <th>ALL_RLA00pctprof_1819</th>\n",
       "      <th>ALL_RLA04numvalid_1819</th>\n",
       "      <th>ALL_RLA04pctprof_1819</th>\n",
       "      <th>TOTALREV</th>\n",
       "      <th>...</th>\n",
       "      <th>PCTTOTAL</th>\n",
       "      <th>PCTFTOT</th>\n",
       "      <th>PCTSTOT</th>\n",
       "      <th>PCTLTOT</th>\n",
       "      <th>PCTLTAXP</th>\n",
       "      <th>PPCSTOT</th>\n",
       "      <th>PPSALWG</th>\n",
       "      <th>PPITOTAL</th>\n",
       "      <th>PPISALWG</th>\n",
       "      <th>PPSPUPIL</th>\n",
       "    </tr>\n",
       "  </thead>\n",
       "  <tbody>\n",
       "    <tr>\n",
       "      <th>0</th>\n",
       "      <td>1500100100000</td>\n",
       "      <td>100240</td>\n",
       "      <td>ALABAMA</td>\n",
       "      <td>AUTAUGA COUNTY SCHOOL DISTRICT</td>\n",
       "      <td>9247</td>\n",
       "      <td>4915</td>\n",
       "      <td>55</td>\n",
       "      <td>765</td>\n",
       "      <td>58</td>\n",
       "      <td>82258</td>\n",
       "      <td>...</td>\n",
       "      <td>100</td>\n",
       "      <td>8.8</td>\n",
       "      <td>67.6</td>\n",
       "      <td>23.6</td>\n",
       "      <td>8.7</td>\n",
       "      <td>8202</td>\n",
       "      <td>4750</td>\n",
       "      <td>4927</td>\n",
       "      <td>3244</td>\n",
       "      <td>435</td>\n",
       "    </tr>\n",
       "    <tr>\n",
       "      <th>1</th>\n",
       "      <td>1500200100000</td>\n",
       "      <td>100270</td>\n",
       "      <td>ALABAMA</td>\n",
       "      <td>BALDWIN COUNTY SCHOOL DISTRICT</td>\n",
       "      <td>31782</td>\n",
       "      <td>17226</td>\n",
       "      <td>56</td>\n",
       "      <td>2462</td>\n",
       "      <td>57</td>\n",
       "      <td>372175</td>\n",
       "      <td>...</td>\n",
       "      <td>100</td>\n",
       "      <td>6.9</td>\n",
       "      <td>42.7</td>\n",
       "      <td>50.3</td>\n",
       "      <td>14.4</td>\n",
       "      <td>9284</td>\n",
       "      <td>5305</td>\n",
       "      <td>5411</td>\n",
       "      <td>3488</td>\n",
       "      <td>613</td>\n",
       "    </tr>\n",
       "    <tr>\n",
       "      <th>2</th>\n",
       "      <td>1500300100000</td>\n",
       "      <td>100300</td>\n",
       "      <td>ALABAMA</td>\n",
       "      <td>BARBOUR COUNTY SCHOOL DISTRICT</td>\n",
       "      <td>824</td>\n",
       "      <td>377</td>\n",
       "      <td>16</td>\n",
       "      <td>61</td>\n",
       "      <td>30-34</td>\n",
       "      <td>10016</td>\n",
       "      <td>...</td>\n",
       "      <td>100</td>\n",
       "      <td>22.7</td>\n",
       "      <td>54.2</td>\n",
       "      <td>23.2</td>\n",
       "      <td>13.7</td>\n",
       "      <td>12076</td>\n",
       "      <td>6335</td>\n",
       "      <td>6011</td>\n",
       "      <td>3608</td>\n",
       "      <td>562</td>\n",
       "    </tr>\n",
       "    <tr>\n",
       "      <th>3</th>\n",
       "      <td>1500300200000</td>\n",
       "      <td>101410</td>\n",
       "      <td>ALABAMA</td>\n",
       "      <td>EUFAULA CITY SCHOOL DISTRICT</td>\n",
       "      <td>4619</td>\n",
       "      <td>3107</td>\n",
       "      <td>34</td>\n",
       "      <td>392</td>\n",
       "      <td>34</td>\n",
       "      <td>35701</td>\n",
       "      <td>...</td>\n",
       "      <td>100</td>\n",
       "      <td>10.8</td>\n",
       "      <td>68.1</td>\n",
       "      <td>21.1</td>\n",
       "      <td>8.7</td>\n",
       "      <td>5888</td>\n",
       "      <td>3217</td>\n",
       "      <td>3459</td>\n",
       "      <td>2086</td>\n",
       "      <td>371</td>\n",
       "    </tr>\n",
       "    <tr>\n",
       "      <th>4</th>\n",
       "      <td>1500400100000</td>\n",
       "      <td>100360</td>\n",
       "      <td>ALABAMA</td>\n",
       "      <td>BIBB COUNTY SCHOOL DISTRICT</td>\n",
       "      <td>3252</td>\n",
       "      <td>1657</td>\n",
       "      <td>37</td>\n",
       "      <td>219</td>\n",
       "      <td>35-39</td>\n",
       "      <td>33360</td>\n",
       "      <td>...</td>\n",
       "      <td>100</td>\n",
       "      <td>11.4</td>\n",
       "      <td>68.1</td>\n",
       "      <td>20.5</td>\n",
       "      <td>4.4</td>\n",
       "      <td>9491</td>\n",
       "      <td>5406</td>\n",
       "      <td>5089</td>\n",
       "      <td>3284</td>\n",
       "      <td>645</td>\n",
       "    </tr>\n",
       "  </tbody>\n",
       "</table>\n",
       "<p>5 rows × 27 columns</p>\n",
       "</div>"
      ],
      "text/plain": [
       "        IDCENSUS  NCESID    STNAM                            NAME  ENROLL  \\\n",
       "0  1500100100000  100240  ALABAMA  AUTAUGA COUNTY SCHOOL DISTRICT    9247   \n",
       "1  1500200100000  100270  ALABAMA  BALDWIN COUNTY SCHOOL DISTRICT   31782   \n",
       "2  1500300100000  100300  ALABAMA  BARBOUR COUNTY SCHOOL DISTRICT     824   \n",
       "3  1500300200000  101410  ALABAMA    EUFAULA CITY SCHOOL DISTRICT    4619   \n",
       "4  1500400100000  100360  ALABAMA     BIBB COUNTY SCHOOL DISTRICT    3252   \n",
       "\n",
       "   ALL_RLA00numvalid_1819 ALL_RLA00pctprof_1819 ALL_RLA04numvalid_1819  \\\n",
       "0                    4915                    55                    765   \n",
       "1                   17226                    56                   2462   \n",
       "2                     377                    16                     61   \n",
       "3                    3107                    34                    392   \n",
       "4                    1657                    37                    219   \n",
       "\n",
       "  ALL_RLA04pctprof_1819  TOTALREV  ...  PCTTOTAL  PCTFTOT  PCTSTOT  PCTLTOT  \\\n",
       "0                    58     82258  ...       100      8.8     67.6     23.6   \n",
       "1                    57    372175  ...       100      6.9     42.7     50.3   \n",
       "2                 30-34     10016  ...       100     22.7     54.2     23.2   \n",
       "3                    34     35701  ...       100     10.8     68.1     21.1   \n",
       "4                 35-39     33360  ...       100     11.4     68.1     20.5   \n",
       "\n",
       "   PCTLTAXP  PPCSTOT  PPSALWG  PPITOTAL  PPISALWG  PPSPUPIL  \n",
       "0       8.7     8202     4750      4927      3244       435  \n",
       "1      14.4     9284     5305      5411      3488       613  \n",
       "2      13.7    12076     6335      6011      3608       562  \n",
       "3       8.7     5888     3217      3459      2086       371  \n",
       "4       4.4     9491     5406      5089      3284       645  \n",
       "\n",
       "[5 rows x 27 columns]"
      ]
     },
     "execution_count": 22,
     "metadata": {},
     "output_type": "execute_result"
    }
   ],
   "source": [
    "final.head()"
   ]
  },
  {
   "cell_type": "markdown",
   "metadata": {},
   "source": [
    "Now that we have our dataframe set up, we need to figure out how to handle our target variables. Right now, they are reported as percentages of students who sat for completed and scored at least a \"Proficient\" on a reading assessment during the 2018-2019 school year."
   ]
  },
  {
   "cell_type": "code",
   "execution_count": 23,
   "metadata": {},
   "outputs": [
    {
     "data": {
      "text/plain": [
       "'10'"
      ]
     },
     "execution_count": 23,
     "metadata": {},
     "output_type": "execute_result"
    }
   ],
   "source": [
    "final['ALL_RLA00pctprof_1819'].min()"
   ]
  },
  {
   "cell_type": "code",
   "execution_count": 24,
   "metadata": {
    "scrolled": true
   },
   "outputs": [
    {
     "data": {
      "text/plain": [
       "'PS'"
      ]
     },
     "execution_count": 24,
     "metadata": {},
     "output_type": "execute_result"
    }
   ],
   "source": [
    "final['ALL_RLA00pctprof_1819'].max()"
   ]
  },
  {
   "cell_type": "code",
   "execution_count": 25,
   "metadata": {
    "scrolled": true
   },
   "outputs": [
    {
     "name": "stdout",
     "output_type": "stream",
     "text": [
      "<class 'pandas.core.frame.DataFrame'>\n",
      "Int64Index: 13333 entries, 0 to 13332\n",
      "Data columns (total 27 columns):\n",
      " #   Column                  Non-Null Count  Dtype  \n",
      "---  ------                  --------------  -----  \n",
      " 0   IDCENSUS                13333 non-null  int64  \n",
      " 1   NCESID                  13333 non-null  object \n",
      " 2   STNAM                   13333 non-null  object \n",
      " 3   NAME                    13333 non-null  object \n",
      " 4   ENROLL                  13333 non-null  int64  \n",
      " 5   ALL_RLA00numvalid_1819  13333 non-null  int64  \n",
      " 6   ALL_RLA00pctprof_1819   13333 non-null  object \n",
      " 7   ALL_RLA04numvalid_1819  12730 non-null  object \n",
      " 8   ALL_RLA04pctprof_1819   12696 non-null  object \n",
      " 9   TOTALREV                13333 non-null  int64  \n",
      " 10  TFEDREV                 13333 non-null  int64  \n",
      " 11  FEDRCOMP                13333 non-null  int64  \n",
      " 12  TSTREV                  13333 non-null  int64  \n",
      " 13  TLOCREV                 13333 non-null  int64  \n",
      " 14  LOCRPROP                13333 non-null  int64  \n",
      " 15  TCURSPND                13333 non-null  int64  \n",
      " 16  TCURINST                13333 non-null  int64  \n",
      " 17  PCTTOTAL                13333 non-null  int64  \n",
      " 18  PCTFTOT                 13333 non-null  float64\n",
      " 19  PCTSTOT                 13333 non-null  float64\n",
      " 20  PCTLTOT                 13333 non-null  float64\n",
      " 21  PCTLTAXP                13333 non-null  float64\n",
      " 22  PPCSTOT                 13333 non-null  int64  \n",
      " 23  PPSALWG                 13333 non-null  int64  \n",
      " 24  PPITOTAL                13333 non-null  int64  \n",
      " 25  PPISALWG                13333 non-null  int64  \n",
      " 26  PPSPUPIL                13333 non-null  int64  \n",
      "dtypes: float64(4), int64(17), object(6)\n",
      "memory usage: 2.8+ MB\n"
     ]
    }
   ],
   "source": [
    "final.info()"
   ]
  },
  {
   "cell_type": "code",
   "execution_count": 26,
   "metadata": {
    "scrolled": false
   },
   "outputs": [
    {
     "data": {
      "text/plain": [
       "50-54    288\n",
       "45-49    267\n",
       "47       256\n",
       "35-39    253\n",
       "49       245\n",
       "        ... \n",
       "GE90       2\n",
       "LE1        2\n",
       "GE95       1\n",
       "96         1\n",
       "4          1\n",
       "Name: ALL_RLA00pctprof_1819, Length: 134, dtype: int64"
      ]
     },
     "execution_count": 26,
     "metadata": {},
     "output_type": "execute_result"
    }
   ],
   "source": [
    "pd.set_option('display.max_rows', 10)\n",
    "final['ALL_RLA00pctprof_1819'].value_counts(ascending=False)"
   ]
  },
  {
   "cell_type": "code",
   "execution_count": 27,
   "metadata": {
    "scrolled": true
   },
   "outputs": [
    {
     "name": "stdout",
     "output_type": "stream",
     "text": [
      "<class 'pandas.core.frame.DataFrame'>\n",
      "Int64Index: 13333 entries, 0 to 13332\n",
      "Data columns (total 27 columns):\n",
      " #   Column                  Non-Null Count  Dtype  \n",
      "---  ------                  --------------  -----  \n",
      " 0   IDCENSUS                13333 non-null  int64  \n",
      " 1   NCESID                  13333 non-null  object \n",
      " 2   STNAM                   13333 non-null  object \n",
      " 3   NAME                    13333 non-null  object \n",
      " 4   ENROLL                  13333 non-null  int64  \n",
      " 5   ALL_RLA00numvalid_1819  13333 non-null  int64  \n",
      " 6   ALL_RLA00pctprof_1819   13333 non-null  object \n",
      " 7   ALL_RLA04numvalid_1819  12730 non-null  object \n",
      " 8   ALL_RLA04pctprof_1819   12696 non-null  object \n",
      " 9   TOTALREV                13333 non-null  int64  \n",
      " 10  TFEDREV                 13333 non-null  int64  \n",
      " 11  FEDRCOMP                13333 non-null  int64  \n",
      " 12  TSTREV                  13333 non-null  int64  \n",
      " 13  TLOCREV                 13333 non-null  int64  \n",
      " 14  LOCRPROP                13333 non-null  int64  \n",
      " 15  TCURSPND                13333 non-null  int64  \n",
      " 16  TCURINST                13333 non-null  int64  \n",
      " 17  PCTTOTAL                13333 non-null  int64  \n",
      " 18  PCTFTOT                 13333 non-null  float64\n",
      " 19  PCTSTOT                 13333 non-null  float64\n",
      " 20  PCTLTOT                 13333 non-null  float64\n",
      " 21  PCTLTAXP                13333 non-null  float64\n",
      " 22  PPCSTOT                 13333 non-null  int64  \n",
      " 23  PPSALWG                 13333 non-null  int64  \n",
      " 24  PPITOTAL                13333 non-null  int64  \n",
      " 25  PPISALWG                13333 non-null  int64  \n",
      " 26  PPSPUPIL                13333 non-null  int64  \n",
      "dtypes: float64(4), int64(17), object(6)\n",
      "memory usage: 2.8+ MB\n"
     ]
    }
   ],
   "source": [
    "final.info()"
   ]
  },
  {
   "cell_type": "markdown",
   "metadata": {},
   "source": [
    "According to the documentation for the achievement data, the code \"PS\" is used to supporess data in order to protect student privacy, and no actual achievement level is reported. Since this won't be useful for our analysis, we want to drop all rows with \"PS\" in the achievement column."
   ]
  },
  {
   "cell_type": "code",
   "execution_count": 28,
   "metadata": {
    "scrolled": false
   },
   "outputs": [
    {
     "data": {
      "text/plain": [
       "ALL_RLA00pctprof_1819\n",
       "False    13192\n",
       "True       141\n",
       "dtype: int64"
      ]
     },
     "execution_count": 28,
     "metadata": {},
     "output_type": "execute_result"
    }
   ],
   "source": [
    "final.value_counts(final['ALL_RLA00pctprof_1819'] == 'PS')"
   ]
  },
  {
   "cell_type": "code",
   "execution_count": 29,
   "metadata": {},
   "outputs": [],
   "source": [
    "final = final.loc[final['ALL_RLA00pctprof_1819'] != 'PS']"
   ]
  },
  {
   "cell_type": "code",
   "execution_count": 30,
   "metadata": {
    "scrolled": true
   },
   "outputs": [
    {
     "data": {
      "text/plain": [
       "(13192, 27)"
      ]
     },
     "execution_count": 30,
     "metadata": {},
     "output_type": "execute_result"
    }
   ],
   "source": [
    "final.shape"
   ]
  },
  {
   "cell_type": "code",
   "execution_count": 31,
   "metadata": {},
   "outputs": [
    {
     "data": {
      "text/plain": [
       "array(['55', '56', '16', '34', '37', '46', '54', '17', '28', '27', '49',\n",
       "       '59', '51', '50', '38', '23', '41', '39', '25', '48', '47', '35',\n",
       "       '61', '30', '45', '66', '53', '36', '29', '43', '42', '57', '22',\n",
       "       '24', '19', '71', '65', '83', '68', '79', '44', '64', '21', '73',\n",
       "       '40', '33', '32', '52', '20-24', '10-14', 'LT50', 'LE1', '6',\n",
       "       '50-54', '7', '35-39', '3', 'LE5', '31', '25-29', '20-29', '65-69',\n",
       "       '10', '12', '69', '30-34', '40-49', '85-89', '40-44', '11-19',\n",
       "       '50-59', '21-39', 'LE10', 'GE50', '60-64', 'LE20', '70-79', '15',\n",
       "       '45-49', '40-59', '13', '30-39', '55-59', '26', '5', '67', '60',\n",
       "       '58', '63', '60-79', '6-9', '70', '62', '20', '14', '18', '15-19',\n",
       "       '9', '8', '87', '80-84', '78', '89', '84', '86', '81', '74', '72',\n",
       "       '60-69', 'GE80', '77', '75', '85', '76', '88', '90', '82', '90-94',\n",
       "       '70-74', '75-79', '80-89', '80', '11', '91', 'GE90', '4', '95',\n",
       "       'GE95', '98', '96', '93', '94', '92'], dtype=object)"
      ]
     },
     "execution_count": 31,
     "metadata": {},
     "output_type": "execute_result"
    }
   ],
   "source": [
    "final['ALL_RLA00pctprof_1819'].unique()"
   ]
  },
  {
   "cell_type": "markdown",
   "metadata": {},
   "source": [
    "Now that the supressed data is removed from our dataframe, we can proceed with transforming our target column. Many of the proficiency results are ranges (e.g., 70-74). Because the consequences of falsely labeling a child as \"Proficient\" when they are, in fact, not, are largely thought of as more serious than falsely labeling a student as \"Not Proficient\" when they, in fact, are proficient, I have decided to take the lower end of these ranges as the assumed level of proficiency for that district. \n",
    "\n",
    "We'll create a function that iterates through our target column and extracts the appropriate number from that value to represent the achivement level. "
   ]
  },
  {
   "cell_type": "code",
   "execution_count": 32,
   "metadata": {},
   "outputs": [],
   "source": [
    "test = []\n",
    "for i, element in enumerate(final['ALL_RLA00pctprof_1819']): \n",
    "    if (\"E\" in element) or  (\"T\" in element): \n",
    "        test.append((element[2:])) #Drop first two characters if there is an \"E\" in the value\n",
    "    elif \"6-9\" == element: \n",
    "        test.append((element[:1]))\n",
    "    elif \"-\" in element: \n",
    "        test.append((element[:2]))   \n",
    "    else: \n",
    "        test.append(element)"
   ]
  },
  {
   "cell_type": "code",
   "execution_count": 33,
   "metadata": {},
   "outputs": [],
   "source": [
    "set1 = set(test)"
   ]
  },
  {
   "cell_type": "code",
   "execution_count": 34,
   "metadata": {},
   "outputs": [
    {
     "data": {
      "text/plain": [
       "13192"
      ]
     },
     "execution_count": 34,
     "metadata": {},
     "output_type": "execute_result"
    }
   ],
   "source": [
    "len(test)"
   ]
  },
  {
   "cell_type": "code",
   "execution_count": 35,
   "metadata": {},
   "outputs": [
    {
     "data": {
      "text/plain": [
       "13192"
      ]
     },
     "execution_count": 35,
     "metadata": {},
     "output_type": "execute_result"
    }
   ],
   "source": [
    "len(final)"
   ]
  },
  {
   "cell_type": "code",
   "execution_count": 36,
   "metadata": {},
   "outputs": [],
   "source": [
    "final['target'] = test"
   ]
  },
  {
   "cell_type": "code",
   "execution_count": 37,
   "metadata": {
    "scrolled": false
   },
   "outputs": [
    {
     "data": {
      "text/html": [
       "<div>\n",
       "<style scoped>\n",
       "    .dataframe tbody tr th:only-of-type {\n",
       "        vertical-align: middle;\n",
       "    }\n",
       "\n",
       "    .dataframe tbody tr th {\n",
       "        vertical-align: top;\n",
       "    }\n",
       "\n",
       "    .dataframe thead th {\n",
       "        text-align: right;\n",
       "    }\n",
       "</style>\n",
       "<table border=\"1\" class=\"dataframe\">\n",
       "  <thead>\n",
       "    <tr style=\"text-align: right;\">\n",
       "      <th></th>\n",
       "      <th>ALL_RLA00pctprof_1819</th>\n",
       "      <th>target</th>\n",
       "    </tr>\n",
       "  </thead>\n",
       "  <tbody>\n",
       "    <tr>\n",
       "      <th>0</th>\n",
       "      <td>55</td>\n",
       "      <td>55</td>\n",
       "    </tr>\n",
       "    <tr>\n",
       "      <th>1</th>\n",
       "      <td>56</td>\n",
       "      <td>56</td>\n",
       "    </tr>\n",
       "    <tr>\n",
       "      <th>2</th>\n",
       "      <td>16</td>\n",
       "      <td>16</td>\n",
       "    </tr>\n",
       "    <tr>\n",
       "      <th>3</th>\n",
       "      <td>34</td>\n",
       "      <td>34</td>\n",
       "    </tr>\n",
       "    <tr>\n",
       "      <th>4</th>\n",
       "      <td>37</td>\n",
       "      <td>37</td>\n",
       "    </tr>\n",
       "    <tr>\n",
       "      <th>...</th>\n",
       "      <td>...</td>\n",
       "      <td>...</td>\n",
       "    </tr>\n",
       "    <tr>\n",
       "      <th>13328</th>\n",
       "      <td>55</td>\n",
       "      <td>55</td>\n",
       "    </tr>\n",
       "    <tr>\n",
       "      <th>13329</th>\n",
       "      <td>55-59</td>\n",
       "      <td>55</td>\n",
       "    </tr>\n",
       "    <tr>\n",
       "      <th>13330</th>\n",
       "      <td>71</td>\n",
       "      <td>71</td>\n",
       "    </tr>\n",
       "    <tr>\n",
       "      <th>13331</th>\n",
       "      <td>62</td>\n",
       "      <td>62</td>\n",
       "    </tr>\n",
       "    <tr>\n",
       "      <th>13332</th>\n",
       "      <td>45-49</td>\n",
       "      <td>45</td>\n",
       "    </tr>\n",
       "  </tbody>\n",
       "</table>\n",
       "<p>13192 rows × 2 columns</p>\n",
       "</div>"
      ],
      "text/plain": [
       "      ALL_RLA00pctprof_1819 target\n",
       "0                        55     55\n",
       "1                        56     56\n",
       "2                        16     16\n",
       "3                        34     34\n",
       "4                        37     37\n",
       "...                     ...    ...\n",
       "13328                    55     55\n",
       "13329                 55-59     55\n",
       "13330                    71     71\n",
       "13331                    62     62\n",
       "13332                 45-49     45\n",
       "\n",
       "[13192 rows x 2 columns]"
      ]
     },
     "execution_count": 37,
     "metadata": {},
     "output_type": "execute_result"
    }
   ],
   "source": [
    "final[['ALL_RLA00pctprof_1819','target']]"
   ]
  },
  {
   "cell_type": "code",
   "execution_count": 38,
   "metadata": {},
   "outputs": [],
   "source": [
    "final = final.drop('ALL_RLA00pctprof_1819', axis=1)"
   ]
  },
  {
   "cell_type": "code",
   "execution_count": 39,
   "metadata": {},
   "outputs": [],
   "source": [
    "# Now writing a function to convert target column to boolean values. \n",
    "test2 = final.copy().reset_index()\n",
    "\n",
    "test2['target_conv'] = 0\n",
    "\n",
    "#final['target'] = final['target'].astype(int)\n",
    "for i, number in enumerate(test2['target']):\n",
    "    if int(number) >= 50: \n",
    "        test2.at[i,'target_conv'] = 1 \n",
    "    else: \n",
    "        test2.at[i,'target_conv'] = 0"
   ]
  },
  {
   "cell_type": "code",
   "execution_count": 40,
   "metadata": {},
   "outputs": [],
   "source": [
    "set2 = set(test2['target_conv'])"
   ]
  },
  {
   "cell_type": "code",
   "execution_count": 41,
   "metadata": {},
   "outputs": [
    {
     "data": {
      "text/plain": [
       "{0, 1}"
      ]
     },
     "execution_count": 41,
     "metadata": {},
     "output_type": "execute_result"
    }
   ],
   "source": [
    "set2"
   ]
  },
  {
   "cell_type": "code",
   "execution_count": 42,
   "metadata": {},
   "outputs": [],
   "source": [
    "final = test2"
   ]
  },
  {
   "cell_type": "code",
   "execution_count": 43,
   "metadata": {},
   "outputs": [],
   "source": [
    "final = final.rename(columns = {'ALL_RLA00numvalid_1819':'total_students', 'ALL_RLA04numvalid_1819':'total_4th','ALL_RLA04pctprof_1819':'_4th_proficient', 'target':'perc_prof'})"
   ]
  },
  {
   "cell_type": "code",
   "execution_count": 44,
   "metadata": {},
   "outputs": [],
   "source": [
    "#Transforming 4th grade columns I didn't end up using, as well as an NCESID column I no longer need\n",
    "final = final.drop(['total_4th','_4th_proficient','NCESID'], axis=1)"
   ]
  },
  {
   "cell_type": "code",
   "execution_count": 45,
   "metadata": {},
   "outputs": [],
   "source": [
    "#Transforming some other columns to more accurately reflect the type of data contained in them \n",
    "final['IDCENSUS'] = final[['IDCENSUS']].astype(object)\n",
    "final['perc_prof'] = final[['perc_prof']].astype(int) "
   ]
  },
  {
   "cell_type": "code",
   "execution_count": 46,
   "metadata": {
    "scrolled": false
   },
   "outputs": [
    {
     "name": "stdout",
     "output_type": "stream",
     "text": [
      "<class 'pandas.core.frame.DataFrame'>\n",
      "RangeIndex: 13192 entries, 0 to 13191\n",
      "Data columns (total 26 columns):\n",
      " #   Column          Non-Null Count  Dtype  \n",
      "---  ------          --------------  -----  \n",
      " 0   index           13192 non-null  int64  \n",
      " 1   IDCENSUS        13192 non-null  object \n",
      " 2   STNAM           13192 non-null  object \n",
      " 3   NAME            13192 non-null  object \n",
      " 4   ENROLL          13192 non-null  int64  \n",
      " 5   total_students  13192 non-null  int64  \n",
      " 6   TOTALREV        13192 non-null  int64  \n",
      " 7   TFEDREV         13192 non-null  int64  \n",
      " 8   FEDRCOMP        13192 non-null  int64  \n",
      " 9   TSTREV          13192 non-null  int64  \n",
      " 10  TLOCREV         13192 non-null  int64  \n",
      " 11  LOCRPROP        13192 non-null  int64  \n",
      " 12  TCURSPND        13192 non-null  int64  \n",
      " 13  TCURINST        13192 non-null  int64  \n",
      " 14  PCTTOTAL        13192 non-null  int64  \n",
      " 15  PCTFTOT         13192 non-null  float64\n",
      " 16  PCTSTOT         13192 non-null  float64\n",
      " 17  PCTLTOT         13192 non-null  float64\n",
      " 18  PCTLTAXP        13192 non-null  float64\n",
      " 19  PPCSTOT         13192 non-null  int64  \n",
      " 20  PPSALWG         13192 non-null  int64  \n",
      " 21  PPITOTAL        13192 non-null  int64  \n",
      " 22  PPISALWG        13192 non-null  int64  \n",
      " 23  PPSPUPIL        13192 non-null  int64  \n",
      " 24  perc_prof       13192 non-null  int64  \n",
      " 25  target_conv     13192 non-null  int64  \n",
      "dtypes: float64(4), int64(19), object(3)\n",
      "memory usage: 2.6+ MB\n"
     ]
    }
   ],
   "source": [
    "final.info()"
   ]
  },
  {
   "cell_type": "markdown",
   "metadata": {},
   "source": [
    "## Data Understanding and Exploration \n",
    "\n",
    "### Target\n",
    "As stated above, my target variable is reading achievement for a particular district, expressed in the \"target\" column above as the % of students rated as \"Proficient\" or above in  Language Arts). Above, I transformed this target into a binary and coded it as the following: \n",
    "- 0: District/LEA has 49% or fewer all students testing \"Proficient\" or above in reading\n",
    "- 1: District/Lea has 50% of more all students testing \"Proficient\" or above in reading\n",
    "\n",
    "I also thought it would be interesting to look at reading proficiency for a particular grade; my combined dataset initially included data for 4th grade (as shown above in Columns 7 and 8 above (\"total_4th\" and \"4th_proficient\")). To start off, we will look at district achivement holistically for all grade levels; however, there is an opportunity to drill down to this specific age group. \n",
    "\n",
    "### Predictors\n",
    "I currently have 17 different predictors, each representing a different characteristic of a particular school district's revenue from federal, state, and local sources: \n",
    "- TOTALREV = Total Revenue (raw number) - combo of Federal, State, and Local Revenue\n",
    "- TFEDREV = Federal Revenue (raw number)\n",
    "- FEDRCOMP = Compensatory (Title 1) Revenue\n",
    "- TSTREV = State Revenue (raw number)\n",
    "- TLOCREV = Local Revenue (raw number) \n",
    "- LOCRPROP = Property Taxes (Raw number)\n",
    "- PCTTOTAL = Percentage of elementary-secondary revenue over total \n",
    "- PCTFTOT = Federal:Overall Revenue (percentage) - how much of an LEA's total revenue is comprised of money from Federal Sources\n",
    "- PCTSTOT = State:Overall Revenue (percentage) - how much of a district's total revenue is comprised of money from state sources\n",
    "- PCTLTOT = Local:Overall Revenue (percentage) how much of a district's total revenue is comprised of money from local sources \n",
    "- PCTLTAXP = taxes and parent government contributions (percentage)\n",
    "- TCURSPND = Total current spending for elementary-secondary programs (Includes spending for instruction, student support services, and other (food services, enterprise operations). Does not include capital outlay expenditures (construction, land purchase, instructional equipment, state payments for captial outlay, payments to state, local governments or other school systems, and/or interest on school system debt). \n",
    "- TCURINST = Total current spending for instruction (raw number) \n",
    "- PPCSTOT = per pupil - total current spending (raw number)\n",
    "- PPSALWG - per pupuil - total salaries and wages (raw number)\n",
    "- PPITOTAL = per pupil - current total spending for instruction (raw number)\n",
    "- PPISALWG - per pupil - salaries and wages for instruction (raw number)\n",
    "\n",
    "Since these each show a different aspect of a school's funding base, and there are relatively few, I'll keep all predictors in for now. I'm particularly interested in seeing how the last three variables concerning employee salaries and money spent purely on instruction (including teacher salaries) may impact reading achivement. "
   ]
  },
  {
   "cell_type": "code",
   "execution_count": 47,
   "metadata": {
    "scrolled": false
   },
   "outputs": [
    {
     "data": {
      "text/plain": [
       "1    0.500834\n",
       "0    0.499166\n",
       "Name: target_conv, dtype: float64"
      ]
     },
     "execution_count": 47,
     "metadata": {},
     "output_type": "execute_result"
    }
   ],
   "source": [
    "# Exploring balance of target classes\n",
    "final['target_conv'].value_counts(normalize=True)"
   ]
  },
  {
   "cell_type": "markdown",
   "metadata": {},
   "source": [
    "Our target is relatively balanced, with just over 51% of school districts reporting that over half of their students tested proficient in reading."
   ]
  },
  {
   "cell_type": "markdown",
   "metadata": {},
   "source": [
    "### Some Exploration"
   ]
  },
  {
   "cell_type": "markdown",
   "metadata": {},
   "source": [
    "Even though we'll use the boolean column to predict on, I'm interested in the distribution of proficiency levels across the country:"
   ]
  },
  {
   "cell_type": "code",
   "execution_count": 48,
   "metadata": {},
   "outputs": [
    {
     "data": {
      "text/plain": [
       "<seaborn.axisgrid.FacetGrid at 0x7fda0129c2e0>"
      ]
     },
     "execution_count": 48,
     "metadata": {},
     "output_type": "execute_result"
    },
    {
     "data": {
      "image/png": "[encoded data removed]",
      "text/plain": [
       "<Figure size 360x360 with 1 Axes>"
      ]
     },
     "metadata": {
      "needs_background": "light"
     },
     "output_type": "display_data"
    }
   ],
   "source": [
    "sn.displot(final, x='perc_prof', binwidth=3)"
   ]
  },
  {
   "cell_type": "markdown",
   "metadata": {},
   "source": [
    "Reading proficiency is normally distributed with a slight right skew, which makes sense given the balance of our binary target. Districts who report 50% proficiency occupy the largest share of our data.\n",
    "\n",
    "We can do the same to visualize the size of school districts: "
   ]
  },
  {
   "cell_type": "code",
   "execution_count": 49,
   "metadata": {},
   "outputs": [],
   "source": [
    "#This is running super slow\n",
    "#sn.displot(final, x=\"ENROLL\", binwidth=3)"
   ]
  },
  {
   "cell_type": "code",
   "execution_count": 50,
   "metadata": {},
   "outputs": [
    {
     "data": {
      "text/html": [
       "<div>\n",
       "<style scoped>\n",
       "    .dataframe tbody tr th:only-of-type {\n",
       "        vertical-align: middle;\n",
       "    }\n",
       "\n",
       "    .dataframe tbody tr th {\n",
       "        vertical-align: top;\n",
       "    }\n",
       "\n",
       "    .dataframe thead th {\n",
       "        text-align: right;\n",
       "    }\n",
       "</style>\n",
       "<table border=\"1\" class=\"dataframe\">\n",
       "  <thead>\n",
       "    <tr style=\"text-align: right;\">\n",
       "      <th></th>\n",
       "      <th>index</th>\n",
       "      <th>ENROLL</th>\n",
       "      <th>total_students</th>\n",
       "      <th>TOTALREV</th>\n",
       "      <th>TFEDREV</th>\n",
       "      <th>FEDRCOMP</th>\n",
       "      <th>TSTREV</th>\n",
       "      <th>TLOCREV</th>\n",
       "      <th>LOCRPROP</th>\n",
       "      <th>TCURSPND</th>\n",
       "      <th>...</th>\n",
       "      <th>PCTSTOT</th>\n",
       "      <th>PCTLTOT</th>\n",
       "      <th>PCTLTAXP</th>\n",
       "      <th>PPCSTOT</th>\n",
       "      <th>PPSALWG</th>\n",
       "      <th>PPITOTAL</th>\n",
       "      <th>PPISALWG</th>\n",
       "      <th>PPSPUPIL</th>\n",
       "      <th>perc_prof</th>\n",
       "      <th>target_conv</th>\n",
       "    </tr>\n",
       "  </thead>\n",
       "  <tbody>\n",
       "    <tr>\n",
       "      <th>count</th>\n",
       "      <td>13192.000000</td>\n",
       "      <td>13192.000000</td>\n",
       "      <td>13192.000000</td>\n",
       "      <td>1.319200e+04</td>\n",
       "      <td>1.319200e+04</td>\n",
       "      <td>13192.000000</td>\n",
       "      <td>1.319200e+04</td>\n",
       "      <td>1.319200e+04</td>\n",
       "      <td>1.319200e+04</td>\n",
       "      <td>1.319200e+04</td>\n",
       "      <td>...</td>\n",
       "      <td>13192.000000</td>\n",
       "      <td>13192.000000</td>\n",
       "      <td>13192.000000</td>\n",
       "      <td>13192.000000</td>\n",
       "      <td>13192.000000</td>\n",
       "      <td>13192.000000</td>\n",
       "      <td>13192.000000</td>\n",
       "      <td>13192.000000</td>\n",
       "      <td>13192.000000</td>\n",
       "      <td>13192.000000</td>\n",
       "    </tr>\n",
       "    <tr>\n",
       "      <th>mean</th>\n",
       "      <td>6665.251743</td>\n",
       "      <td>3595.803441</td>\n",
       "      <td>1868.277062</td>\n",
       "      <td>5.205773e+04</td>\n",
       "      <td>3.931425e+03</td>\n",
       "      <td>989.182307</td>\n",
       "      <td>2.422702e+04</td>\n",
       "      <td>2.389928e+04</td>\n",
       "      <td>1.599513e+04</td>\n",
       "      <td>4.460427e+04</td>\n",
       "      <td>...</td>\n",
       "      <td>48.293094</td>\n",
       "      <td>44.200394</td>\n",
       "      <td>35.531602</td>\n",
       "      <td>13769.177683</td>\n",
       "      <td>7614.135461</td>\n",
       "      <td>8085.543966</td>\n",
       "      <td>5076.781610</td>\n",
       "      <td>718.509172</td>\n",
       "      <td>49.186401</td>\n",
       "      <td>0.500834</td>\n",
       "    </tr>\n",
       "    <tr>\n",
       "      <th>std</th>\n",
       "      <td>3855.688989</td>\n",
       "      <td>12247.637968</td>\n",
       "      <td>6311.223510</td>\n",
       "      <td>1.736221e+05</td>\n",
       "      <td>1.763369e+04</td>\n",
       "      <td>5582.083172</td>\n",
       "      <td>8.746156e+04</td>\n",
       "      <td>8.313332e+04</td>\n",
       "      <td>6.126130e+04</td>\n",
       "      <td>1.466083e+05</td>\n",
       "      <td>...</td>\n",
       "      <td>18.792807</td>\n",
       "      <td>20.745244</td>\n",
       "      <td>21.276803</td>\n",
       "      <td>9414.050038</td>\n",
       "      <td>4608.393310</td>\n",
       "      <td>5291.135696</td>\n",
       "      <td>2745.006652</td>\n",
       "      <td>1128.997134</td>\n",
       "      <td>16.607772</td>\n",
       "      <td>0.500018</td>\n",
       "    </tr>\n",
       "    <tr>\n",
       "      <th>min</th>\n",
       "      <td>0.000000</td>\n",
       "      <td>0.000000</td>\n",
       "      <td>6.000000</td>\n",
       "      <td>1.600000e+01</td>\n",
       "      <td>0.000000e+00</td>\n",
       "      <td>0.000000</td>\n",
       "      <td>0.000000e+00</td>\n",
       "      <td>0.000000e+00</td>\n",
       "      <td>0.000000e+00</td>\n",
       "      <td>0.000000e+00</td>\n",
       "      <td>...</td>\n",
       "      <td>0.000000</td>\n",
       "      <td>0.000000</td>\n",
       "      <td>0.000000</td>\n",
       "      <td>0.000000</td>\n",
       "      <td>0.000000</td>\n",
       "      <td>0.000000</td>\n",
       "      <td>0.000000</td>\n",
       "      <td>0.000000</td>\n",
       "      <td>1.000000</td>\n",
       "      <td>0.000000</td>\n",
       "    </tr>\n",
       "    <tr>\n",
       "      <th>25%</th>\n",
       "      <td>3318.750000</td>\n",
       "      <td>416.000000</td>\n",
       "      <td>210.750000</td>\n",
       "      <td>6.684000e+03</td>\n",
       "      <td>3.550000e+02</td>\n",
       "      <td>73.000000</td>\n",
       "      <td>2.873750e+03</td>\n",
       "      <td>2.410750e+03</td>\n",
       "      <td>1.027000e+03</td>\n",
       "      <td>5.585750e+03</td>\n",
       "      <td>...</td>\n",
       "      <td>34.900000</td>\n",
       "      <td>28.100000</td>\n",
       "      <td>19.400000</td>\n",
       "      <td>10023.750000</td>\n",
       "      <td>5677.000000</td>\n",
       "      <td>5927.750000</td>\n",
       "      <td>3798.000000</td>\n",
       "      <td>336.000000</td>\n",
       "      <td>38.000000</td>\n",
       "      <td>0.000000</td>\n",
       "    </tr>\n",
       "    <tr>\n",
       "      <th>50%</th>\n",
       "      <td>6650.500000</td>\n",
       "      <td>1133.000000</td>\n",
       "      <td>580.000000</td>\n",
       "      <td>1.711550e+04</td>\n",
       "      <td>9.470000e+02</td>\n",
       "      <td>210.000000</td>\n",
       "      <td>8.105500e+03</td>\n",
       "      <td>6.468500e+03</td>\n",
       "      <td>3.544000e+03</td>\n",
       "      <td>1.444600e+04</td>\n",
       "      <td>...</td>\n",
       "      <td>50.550000</td>\n",
       "      <td>41.200000</td>\n",
       "      <td>31.400000</td>\n",
       "      <td>11828.000000</td>\n",
       "      <td>6702.000000</td>\n",
       "      <td>7038.000000</td>\n",
       "      <td>4500.500000</td>\n",
       "      <td>532.000000</td>\n",
       "      <td>50.000000</td>\n",
       "      <td>1.000000</td>\n",
       "    </tr>\n",
       "    <tr>\n",
       "      <th>75%</th>\n",
       "      <td>9996.250000</td>\n",
       "      <td>3005.250000</td>\n",
       "      <td>1531.250000</td>\n",
       "      <td>4.526225e+04</td>\n",
       "      <td>2.684000e+03</td>\n",
       "      <td>609.000000</td>\n",
       "      <td>1.986200e+04</td>\n",
       "      <td>1.966600e+04</td>\n",
       "      <td>1.179050e+04</td>\n",
       "      <td>3.871550e+04</td>\n",
       "      <td>...</td>\n",
       "      <td>62.700000</td>\n",
       "      <td>59.000000</td>\n",
       "      <td>49.900000</td>\n",
       "      <td>15614.250000</td>\n",
       "      <td>8501.250000</td>\n",
       "      <td>9238.250000</td>\n",
       "      <td>5742.250000</td>\n",
       "      <td>836.000000</td>\n",
       "      <td>60.000000</td>\n",
       "      <td>1.000000</td>\n",
       "    </tr>\n",
       "    <tr>\n",
       "      <th>max</th>\n",
       "      <td>13332.000000</td>\n",
       "      <td>621414.000000</td>\n",
       "      <td>250843.000000</td>\n",
       "      <td>9.974408e+06</td>\n",
       "      <td>1.083978e+06</td>\n",
       "      <td>360581.000000</td>\n",
       "      <td>6.014547e+06</td>\n",
       "      <td>3.301889e+06</td>\n",
       "      <td>2.897871e+06</td>\n",
       "      <td>8.146260e+06</td>\n",
       "      <td>...</td>\n",
       "      <td>100.000000</td>\n",
       "      <td>99.100000</td>\n",
       "      <td>95.900000</td>\n",
       "      <td>418800.000000</td>\n",
       "      <td>172684.000000</td>\n",
       "      <td>314200.000000</td>\n",
       "      <td>158588.000000</td>\n",
       "      <td>75096.000000</td>\n",
       "      <td>98.000000</td>\n",
       "      <td>1.000000</td>\n",
       "    </tr>\n",
       "  </tbody>\n",
       "</table>\n",
       "<p>8 rows × 23 columns</p>\n",
       "</div>"
      ],
      "text/plain": [
       "              index         ENROLL  total_students      TOTALREV  \\\n",
       "count  13192.000000   13192.000000    13192.000000  1.319200e+04   \n",
       "mean    6665.251743    3595.803441     1868.277062  5.205773e+04   \n",
       "std     3855.688989   12247.637968     6311.223510  1.736221e+05   \n",
       "min        0.000000       0.000000        6.000000  1.600000e+01   \n",
       "25%     3318.750000     416.000000      210.750000  6.684000e+03   \n",
       "50%     6650.500000    1133.000000      580.000000  1.711550e+04   \n",
       "75%     9996.250000    3005.250000     1531.250000  4.526225e+04   \n",
       "max    13332.000000  621414.000000   250843.000000  9.974408e+06   \n",
       "\n",
       "            TFEDREV       FEDRCOMP        TSTREV       TLOCREV      LOCRPROP  \\\n",
       "count  1.319200e+04   13192.000000  1.319200e+04  1.319200e+04  1.319200e+04   \n",
       "mean   3.931425e+03     989.182307  2.422702e+04  2.389928e+04  1.599513e+04   \n",
       "std    1.763369e+04    5582.083172  8.746156e+04  8.313332e+04  6.126130e+04   \n",
       "min    0.000000e+00       0.000000  0.000000e+00  0.000000e+00  0.000000e+00   \n",
       "25%    3.550000e+02      73.000000  2.873750e+03  2.410750e+03  1.027000e+03   \n",
       "50%    9.470000e+02     210.000000  8.105500e+03  6.468500e+03  3.544000e+03   \n",
       "75%    2.684000e+03     609.000000  1.986200e+04  1.966600e+04  1.179050e+04   \n",
       "max    1.083978e+06  360581.000000  6.014547e+06  3.301889e+06  2.897871e+06   \n",
       "\n",
       "           TCURSPND  ...       PCTSTOT       PCTLTOT      PCTLTAXP  \\\n",
       "count  1.319200e+04  ...  13192.000000  13192.000000  13192.000000   \n",
       "mean   4.460427e+04  ...     48.293094     44.200394     35.531602   \n",
       "std    1.466083e+05  ...     18.792807     20.745244     21.276803   \n",
       "min    0.000000e+00  ...      0.000000      0.000000      0.000000   \n",
       "25%    5.585750e+03  ...     34.900000     28.100000     19.400000   \n",
       "50%    1.444600e+04  ...     50.550000     41.200000     31.400000   \n",
       "75%    3.871550e+04  ...     62.700000     59.000000     49.900000   \n",
       "max    8.146260e+06  ...    100.000000     99.100000     95.900000   \n",
       "\n",
       "             PPCSTOT        PPSALWG       PPITOTAL       PPISALWG  \\\n",
       "count   13192.000000   13192.000000   13192.000000   13192.000000   \n",
       "mean    13769.177683    7614.135461    8085.543966    5076.781610   \n",
       "std      9414.050038    4608.393310    5291.135696    2745.006652   \n",
       "min         0.000000       0.000000       0.000000       0.000000   \n",
       "25%     10023.750000    5677.000000    5927.750000    3798.000000   \n",
       "50%     11828.000000    6702.000000    7038.000000    4500.500000   \n",
       "75%     15614.250000    8501.250000    9238.250000    5742.250000   \n",
       "max    418800.000000  172684.000000  314200.000000  158588.000000   \n",
       "\n",
       "           PPSPUPIL     perc_prof   target_conv  \n",
       "count  13192.000000  13192.000000  13192.000000  \n",
       "mean     718.509172     49.186401      0.500834  \n",
       "std     1128.997134     16.607772      0.500018  \n",
       "min        0.000000      1.000000      0.000000  \n",
       "25%      336.000000     38.000000      0.000000  \n",
       "50%      532.000000     50.000000      1.000000  \n",
       "75%      836.000000     60.000000      1.000000  \n",
       "max    75096.000000     98.000000      1.000000  \n",
       "\n",
       "[8 rows x 23 columns]"
      ]
     },
     "execution_count": 50,
     "metadata": {},
     "output_type": "execute_result"
    }
   ],
   "source": [
    "# Exploring numeric columns\n",
    "num_cols = final[[c for c in final.columns if final[c].dtype == 'int64' or final[c].dtype== 'float64']].describe()\n",
    "num_cols"
   ]
  },
  {
   "cell_type": "code",
   "execution_count": 51,
   "metadata": {},
   "outputs": [
    {
     "data": {
      "text/html": [
       "<div>\n",
       "<style scoped>\n",
       "    .dataframe tbody tr th:only-of-type {\n",
       "        vertical-align: middle;\n",
       "    }\n",
       "\n",
       "    .dataframe tbody tr th {\n",
       "        vertical-align: top;\n",
       "    }\n",
       "\n",
       "    .dataframe thead th {\n",
       "        text-align: right;\n",
       "    }\n",
       "</style>\n",
       "<table border=\"1\" class=\"dataframe\">\n",
       "  <thead>\n",
       "    <tr style=\"text-align: right;\">\n",
       "      <th></th>\n",
       "      <th>IDCENSUS</th>\n",
       "      <th>STNAM</th>\n",
       "      <th>NAME</th>\n",
       "    </tr>\n",
       "  </thead>\n",
       "  <tbody>\n",
       "    <tr>\n",
       "      <th>count</th>\n",
       "      <td>13192</td>\n",
       "      <td>13192</td>\n",
       "      <td>13192</td>\n",
       "    </tr>\n",
       "    <tr>\n",
       "      <th>unique</th>\n",
       "      <td>13192</td>\n",
       "      <td>50</td>\n",
       "      <td>12977</td>\n",
       "    </tr>\n",
       "    <tr>\n",
       "      <th>top</th>\n",
       "      <td>14508500100000</td>\n",
       "      <td>TEXAS</td>\n",
       "      <td>LINCOLN CO SCH DIST</td>\n",
       "    </tr>\n",
       "    <tr>\n",
       "      <th>freq</th>\n",
       "      <td>1</td>\n",
       "      <td>1032</td>\n",
       "      <td>6</td>\n",
       "    </tr>\n",
       "  </tbody>\n",
       "</table>\n",
       "</div>"
      ],
      "text/plain": [
       "              IDCENSUS  STNAM                 NAME\n",
       "count            13192  13192                13192\n",
       "unique           13192     50                12977\n",
       "top     14508500100000  TEXAS  LINCOLN CO SCH DIST\n",
       "freq                 1   1032                    6"
      ]
     },
     "execution_count": 51,
     "metadata": {},
     "output_type": "execute_result"
    }
   ],
   "source": [
    "# Exploring object columns\n",
    "obj_cols = final[[c for c in final.columns if final[c].dtype == 'object']].describe()\n",
    "obj_cols"
   ]
  },
  {
   "cell_type": "markdown",
   "metadata": {},
   "source": [
    "Unsurprisingly, Texas is the most-represented state in the data, with 1,032 school districts. "
   ]
  },
  {
   "cell_type": "markdown",
   "metadata": {},
   "source": [
    "### If time, insert reading achievement map here"
   ]
  },
  {
   "cell_type": "markdown",
   "metadata": {},
   "source": [
    "## Model Prep"
   ]
  },
  {
   "cell_type": "markdown",
   "metadata": {},
   "source": [
    "### Choosing Evaluation Metrics\n",
    "In the context of this dataset, the cost of a false positive could be argued as being more significant than that of a false negative. A false positive means here that students in certain districts are labeled as proficient in reading when they, in fact, may not be. This is (arguably) \"worse\" than labeling a proficient student not-proficient when they, in fact, are. The former, if we play this all the way out, could result in a student falling further and further behind as they progress through school, because their reading difficulties are never diagnosed and thus compound over time. A false negative is still undesirable, yet easier to remedy when it is discovered. \n",
    "\n",
    "Though false negatives could result in a mis-allocation of resources to students who are erroneously deemed \"not proficient,\" practitioners are overall much more concerned with students whose true learning needs are not being met, often because they are mis-labeled as \"proficient.\" Therefore, for this analysis, I will focus on minimizing false positives and, thus, maximizing the precision of my model. "
   ]
  },
  {
   "cell_type": "markdown",
   "metadata": {},
   "source": [
    "### Feature Engineering"
   ]
  },
  {
   "cell_type": "markdown",
   "metadata": {},
   "source": [
    "After some thought I decided to drop some columns that seem redundant, as the multicollinearity heatmap was beginning to get crowded and I think some of different columns give us two versions of the same information (e.g., Total Revenue vs. Total Current Spending, assuming a district spends all of its revenue). "
   ]
  },
  {
   "cell_type": "code",
   "execution_count": 52,
   "metadata": {},
   "outputs": [],
   "source": [
    "#Splitting data into features and target\n",
    "target = final['target_conv']\n",
    "features = final.drop(['index','target_conv','total_students', 'ENROLL','TCURSPND', 'PPSALWG', 'PCTTOTAL', 'PCTFTOT','PCTSTOT','PCTLTOT'], axis = 1)"
   ]
  },
  {
   "cell_type": "markdown",
   "metadata": {},
   "source": [
    "### Multicollinearity"
   ]
  },
  {
   "cell_type": "code",
   "execution_count": 53,
   "metadata": {
    "scrolled": true
   },
   "outputs": [
    {
     "data": {
      "image/png": "[encoded data removed]",
      "text/plain": [
       "<Figure size 432x288 with 2 Axes>"
      ]
     },
     "metadata": {
      "needs_background": "light"
     },
     "output_type": "display_data"
    }
   ],
   "source": [
    "corr = features.corr()\n",
    "sn.heatmap(corr, annot=True)\n",
    "plt.show()"
   ]
  },
  {
   "cell_type": "markdown",
   "metadata": {},
   "source": [
    "As you can see, there was a lot of multicollinearity in my initial heatmap. Predictably, a lot of these raw numbers tend to move together -- for example, local revenue (TLOCREV), state revenue (TSTREV), and federal revenue (TFEDREV) are all highly correlated with each other and with total revenue (TOTALREV), as well as total current spending for instruction (TCURINST). \n",
    "\n",
    "For this reason, I decided to eliminate the local revenue column from the data (TLOCREV), as this could be more precisely measured through examining variability in local property taxes (LOCRPROP). I also realized that total current spending on instruction (TCURINST) is more precisely reflected in the per pupil spending for instruction (PPITOTAL). \n",
    "\n",
    "Also, there is a high correlation (0.85) between per pupil spending on instructional salaries and wages (PPISALWG) and per pupil spending on instruction (PPITOTAL), which makes sense because the former is included in the latter. To try to minimize some of this correlation, I'll drop the former column.  \n",
    "\n",
    "The high correlation of 0.93 between PPITOTAL (per pupil spending on instruction) and PPCSTOT (per pupil total current spending) is also concerning. For this model, I will drop the latter feature, as I am more interested as to if spending more money on teacher salaries and wages leads to increased student achievement. Furthermore, it is kind of common sense to think that spending more money on each student will lead to higher student achievement, so I honestly don't think PPCSTOT would be that informative anyway.\n",
    "\n",
    "Lastly, state revenue (TSTREV) is rather outside the score of my business problem, which concerns federal spending, so I eliminated that as well. I hope these changes will help simplify things (as these features are tough to keep straight) and help my model to avoid confusion. "
   ]
  },
  {
   "cell_type": "code",
   "execution_count": 54,
   "metadata": {},
   "outputs": [],
   "source": [
    "features = features.drop(['TLOCREV','TCURINST', 'TFEDREV', 'TSTREV', 'PPCSTOT', 'TOTALREV', 'PPITOTAL'], axis = 1)"
   ]
  },
  {
   "cell_type": "code",
   "execution_count": 55,
   "metadata": {},
   "outputs": [
    {
     "data": {
      "image/png": "[encoded data removed]",
      "text/plain": [
       "<Figure size 432x288 with 2 Axes>"
      ]
     },
     "metadata": {
      "needs_background": "light"
     },
     "output_type": "display_data"
    }
   ],
   "source": [
    "corr = features.corr()\n",
    "sn.heatmap(corr, annot=True)\n",
    "plt.show()"
   ]
  },
  {
   "cell_type": "markdown",
   "metadata": {},
   "source": [
    "After some trial and error, I arrived at a heatmap with five features that are relatively low-correlated to each other. There is still some multicollinearity between local property taxes and Title I funding (at 0.75), which I find strange, because Title I funding is based on the percentage of children living in poverty who attend a certain school. I always thought that Title I funding levels would be inversely related to property taxes...maybe this is not true in urban areas? Anyways, the 0.75 coefficient is not great, but since we are in a much better spot than we were before, I'll proceed for now and see how we do. "
   ]
  },
  {
   "cell_type": "code",
   "execution_count": 56,
   "metadata": {},
   "outputs": [],
   "source": [
    "features = features.rename(columns = {\"STNAM\": \"state\", \"LOCRPROP\": \"prop_taxes\", \"FEDRCOMP\": \"title_1\", \"PCTLTAXP\": \"taxes_perc\", \"PPISALWG\": \"perstud_salaries\", \"PPSPUPIL\": \"perstud_spending\"})"
   ]
  },
  {
   "cell_type": "code",
   "execution_count": 57,
   "metadata": {
    "scrolled": true
   },
   "outputs": [],
   "source": [
    "features= features.drop(labels={'IDCENSUS','NAME'}, axis = 1)"
   ]
  },
  {
   "cell_type": "markdown",
   "metadata": {},
   "source": [
    "## Preprocessing Data"
   ]
  },
  {
   "cell_type": "markdown",
   "metadata": {},
   "source": [
    "### Dealing with Different Data Types"
   ]
  },
  {
   "cell_type": "markdown",
   "metadata": {},
   "source": [
    "All of the predictors in our pared-down dataset, save one (state name), are numerical. What follows is a final list of what will go into the baseline model. Depending on how the model performs, I may add features back in. \n",
    "- 'state': Name of the state in which a school district is located\n",
    "- 'title_1': Amount of Title I funding a district receives (in thousands of dollars) \n",
    "- 'prop_taxes': Amount of property tax revenue a district receives (in thousands of dollars) \n",
    "- 'taxes_perc': Percentage of funding that comes from taxes and parent government contributions\n",
    "- 'perstud_salaries': Amount district spends per pupil on instructional salaries (in dollars)\n",
    "- 'perstud_spending': Amount distrirct spends per pupil on student support (in dollars)\n",
    "\n",
    "The numerical columns must be scaled, while the object column ('state') has to get transformed somehow in order to make it meaningful. In preparation for the fit, scaling, and transforming steps that follow, we'll iterate through the columns and assign them to different lists based on their data type. "
   ]
  },
  {
   "cell_type": "markdown",
   "metadata": {},
   "source": [
    "#### Train-Test Split"
   ]
  },
  {
   "cell_type": "markdown",
   "metadata": {},
   "source": [
    "To prevent data leakage during the next few steps when manipulating our categorical data, we'll perform the train-test split now: "
   ]
  },
  {
   "cell_type": "code",
   "execution_count": 58,
   "metadata": {},
   "outputs": [],
   "source": [
    "X_train, X_test, y_train, y_test = train_test_split(features, target, test_size=0.20, random_state=42)"
   ]
  },
  {
   "cell_type": "markdown",
   "metadata": {},
   "source": [
    "#### Categorical Data"
   ]
  },
  {
   "cell_type": "markdown",
   "metadata": {},
   "source": [
    "Since there are 50 state possibilities, one-hot encoding would lead to dozens of unnecessary columns. After some thought, I decided to use target encoding to deal with states, using the continuous version of the target to replace each state with the average percentage of students proficient in that state. Though this is an imperfect substitute for location, it is true that states differ markedly from each other in their levels of student achievement and tend to stay consistent from year to year (for example, Massachusetts is continually one of the top-performing states in the nation, while Louisiana is consistently one of the lowest). Thus, treating states this way should feed my model some valuable information about student performance. "
   ]
  },
  {
   "cell_type": "code",
   "execution_count": 59,
   "metadata": {},
   "outputs": [],
   "source": [
    "#Target encoding state column \n",
    "#Create a groupby dataframe that gives us the mean in each numeric column for each state\n",
    "state_averages = X_train.groupby(['state']).mean()"
   ]
  },
  {
   "cell_type": "code",
   "execution_count": 60,
   "metadata": {},
   "outputs": [],
   "source": [
    "state_averages=state_averages['perc_prof'].reset_index()"
   ]
  },
  {
   "cell_type": "code",
   "execution_count": 61,
   "metadata": {
    "scrolled": true
   },
   "outputs": [],
   "source": [
    "#Join helper dataframe with my training predictors and testing data\n",
    "X_train = pd.merge(state_averages, X_train, how = 'inner', on='state').reset_index()\n",
    "X_test = pd.merge(state_averages, X_test, how = 'inner', on='state').reset_index()"
   ]
  },
  {
   "cell_type": "code",
   "execution_count": 62,
   "metadata": {},
   "outputs": [],
   "source": [
    "X_train = X_train.drop(['state', 'perc_prof_y'], axis = 1)\n",
    "X_test = X_test.drop(['state', 'perc_prof_y'], axis = 1)"
   ]
  },
  {
   "cell_type": "code",
   "execution_count": 63,
   "metadata": {},
   "outputs": [],
   "source": [
    "X_train = X_train.rename(columns = {'perc_prof_x':'avg_state_prof'})\n",
    "X_test = X_test.rename(columns = {'perc_prof_x':'avg_state_prof'})"
   ]
  },
  {
   "cell_type": "code",
   "execution_count": 64,
   "metadata": {
    "scrolled": false
   },
   "outputs": [
    {
     "name": "stdout",
     "output_type": "stream",
     "text": [
      "<class 'pandas.core.frame.DataFrame'>\n",
      "RangeIndex: 10553 entries, 0 to 10552\n",
      "Data columns (total 7 columns):\n",
      " #   Column            Non-Null Count  Dtype  \n",
      "---  ------            --------------  -----  \n",
      " 0   index             10553 non-null  int64  \n",
      " 1   avg_state_prof    10553 non-null  float64\n",
      " 2   title_1           10553 non-null  int64  \n",
      " 3   prop_taxes        10553 non-null  int64  \n",
      " 4   taxes_perc        10553 non-null  float64\n",
      " 5   perstud_salaries  10553 non-null  int64  \n",
      " 6   perstud_spending  10553 non-null  int64  \n",
      "dtypes: float64(2), int64(5)\n",
      "memory usage: 577.2 KB\n"
     ]
    }
   ],
   "source": [
    "X_train.info()"
   ]
  },
  {
   "cell_type": "code",
   "execution_count": 65,
   "metadata": {
    "scrolled": false
   },
   "outputs": [
    {
     "data": {
      "text/html": [
       "<div>\n",
       "<style scoped>\n",
       "    .dataframe tbody tr th:only-of-type {\n",
       "        vertical-align: middle;\n",
       "    }\n",
       "\n",
       "    .dataframe tbody tr th {\n",
       "        vertical-align: top;\n",
       "    }\n",
       "\n",
       "    .dataframe thead th {\n",
       "        text-align: right;\n",
       "    }\n",
       "</style>\n",
       "<table border=\"1\" class=\"dataframe\">\n",
       "  <thead>\n",
       "    <tr style=\"text-align: right;\">\n",
       "      <th></th>\n",
       "      <th>index</th>\n",
       "      <th>avg_state_prof</th>\n",
       "      <th>title_1</th>\n",
       "      <th>prop_taxes</th>\n",
       "      <th>taxes_perc</th>\n",
       "      <th>perstud_salaries</th>\n",
       "      <th>perstud_spending</th>\n",
       "    </tr>\n",
       "  </thead>\n",
       "  <tbody>\n",
       "    <tr>\n",
       "      <th>0</th>\n",
       "      <td>0</td>\n",
       "      <td>43.127451</td>\n",
       "      <td>1146</td>\n",
       "      <td>3110</td>\n",
       "      <td>8.7</td>\n",
       "      <td>2086</td>\n",
       "      <td>371</td>\n",
       "    </tr>\n",
       "    <tr>\n",
       "      <th>1</th>\n",
       "      <td>1</td>\n",
       "      <td>43.127451</td>\n",
       "      <td>2426</td>\n",
       "      <td>21601</td>\n",
       "      <td>11.2</td>\n",
       "      <td>3494</td>\n",
       "      <td>537</td>\n",
       "    </tr>\n",
       "    <tr>\n",
       "      <th>2</th>\n",
       "      <td>2</td>\n",
       "      <td>43.127451</td>\n",
       "      <td>690</td>\n",
       "      <td>1732</td>\n",
       "      <td>6.4</td>\n",
       "      <td>3736</td>\n",
       "      <td>660</td>\n",
       "    </tr>\n",
       "    <tr>\n",
       "      <th>3</th>\n",
       "      <td>3</td>\n",
       "      <td>43.127451</td>\n",
       "      <td>1729</td>\n",
       "      <td>2733</td>\n",
       "      <td>5.4</td>\n",
       "      <td>3479</td>\n",
       "      <td>726</td>\n",
       "    </tr>\n",
       "    <tr>\n",
       "      <th>4</th>\n",
       "      <td>4</td>\n",
       "      <td>43.127451</td>\n",
       "      <td>485</td>\n",
       "      <td>1055</td>\n",
       "      <td>5.9</td>\n",
       "      <td>3561</td>\n",
       "      <td>481</td>\n",
       "    </tr>\n",
       "  </tbody>\n",
       "</table>\n",
       "</div>"
      ],
      "text/plain": [
       "   index  avg_state_prof  title_1  prop_taxes  taxes_perc  perstud_salaries  \\\n",
       "0      0       43.127451     1146        3110         8.7              2086   \n",
       "1      1       43.127451     2426       21601        11.2              3494   \n",
       "2      2       43.127451      690        1732         6.4              3736   \n",
       "3      3       43.127451     1729        2733         5.4              3479   \n",
       "4      4       43.127451      485        1055         5.9              3561   \n",
       "\n",
       "   perstud_spending  \n",
       "0               371  \n",
       "1               537  \n",
       "2               660  \n",
       "3               726  \n",
       "4               481  "
      ]
     },
     "execution_count": 65,
     "metadata": {},
     "output_type": "execute_result"
    }
   ],
   "source": [
    "X_train.head()"
   ]
  },
  {
   "cell_type": "markdown",
   "metadata": {},
   "source": [
    "#### Scaling Data\n",
    "Since all columns are now numeric and continuous, we'll run a standard scaler on all features."
   ]
  },
  {
   "cell_type": "code",
   "execution_count": 66,
   "metadata": {},
   "outputs": [],
   "source": [
    "scaler = StandardScaler()\n",
    "# Train our scaler on training data, then fit to testing\n",
    "X_train_scaled = scaler.fit_transform(X_train, y=None)\n",
    "X_test_scaled = scaler.transform(X_test)"
   ]
  },
  {
   "cell_type": "markdown",
   "metadata": {},
   "source": [
    "## Baseline Model(s)"
   ]
  },
  {
   "cell_type": "markdown",
   "metadata": {},
   "source": [
    "The simplest model would be to predict the majority class which, as stated above, occurs  50% of the time. However, if we predicted all school districts as at or above proficient, that renders half of all school districts nationwide mis-labeled. Hopefully, our future models can do better than that. \n",
    "\n",
    "Could our newly created continuous variable (a statewide average proficiency rate) do better than 50%? "
   ]
  },
  {
   "cell_type": "code",
   "execution_count": 67,
   "metadata": {
    "scrolled": true
   },
   "outputs": [],
   "source": [
    "# train = X_train\n",
    "# train['target'] = y_train"
   ]
  },
  {
   "cell_type": "code",
   "execution_count": 68,
   "metadata": {},
   "outputs": [],
   "source": [
    "# train.isna().sum()"
   ]
  },
  {
   "cell_type": "code",
   "execution_count": 69,
   "metadata": {},
   "outputs": [],
   "source": [
    "# test = X_test.reset_index()\n",
    "# test['target'] = y_test"
   ]
  },
  {
   "cell_type": "code",
   "execution_count": 70,
   "metadata": {},
   "outputs": [],
   "source": [
    "# Number correct is number of proficient districts with state proficiency > 50%\n",
    "# and non-proficient districts with state proficiency <50%."
   ]
  },
  {
   "cell_type": "markdown",
   "metadata": {},
   "source": [
    "## Model 1: K-Nearest Neighbors"
   ]
  },
  {
   "cell_type": "markdown",
   "metadata": {},
   "source": [
    "Since we have so few columns, it's worth utilizing a KNN model, as it is typically computationally expensive, but could yield some easily explainable results. Given the number of rows, it may still take quite a bit of time, though."
   ]
  },
  {
   "cell_type": "code",
   "execution_count": 71,
   "metadata": {},
   "outputs": [],
   "source": [
    "from sklearn.neighbors import KNeighborsClassifier"
   ]
  },
  {
   "cell_type": "code",
   "execution_count": 72,
   "metadata": {},
   "outputs": [],
   "source": [
    "knn = KNeighborsClassifier(n_neighbors=3)\n",
    "knn.fit(X_train, y_train)\n",
    "#Predictions for the testing set\n",
    "y_preds = knn.predict(X_test)"
   ]
  },
  {
   "cell_type": "markdown",
   "metadata": {},
   "source": [
    "Thank you Lindsay for the helpful evaluate function!! "
   ]
  },
  {
   "cell_type": "code",
   "execution_count": 73,
   "metadata": {},
   "outputs": [
    {
     "name": "stdout",
     "output_type": "stream",
     "text": [
      "Train Scores\n",
      "------------\n",
      "Accuracy: 0.7484127736188761\n",
      "Precision: 0.7484420398679414\n",
      "F1 Score: 0.7484604452865941\n",
      "ROC-AUC: 0.8125270420049663\n",
      "--------------------\n",
      "Test Scores\n",
      "-----------\n",
      "Accuracy: 0.495642288745737\n",
      "Precision: 0.49571012363875316\n",
      "F1 Score: 0.5068543905150056\n",
      "ROC-AUC: 0.4966798049148313\n"
     ]
    },
    {
     "data": {
      "image/png": "[encoded data removed]",
      "text/plain": [
       "<Figure size 432x288 with 2 Axes>"
      ]
     },
     "metadata": {
      "needs_background": "light"
     },
     "output_type": "display_data"
    }
   ],
   "source": [
    "fn.evaluate(knn, X_train, X_test, y_train, y_test)"
   ]
  }
 ],
 "metadata": {
  "kernelspec": {
   "display_name": "Python 3",
   "language": "python",
   "name": "python3"
  },
  "language_info": {
   "codemirror_mode": {
    "name": "ipython",
    "version": 3
   },
   "file_extension": ".py",
   "mimetype": "text/x-python",
   "name": "python",
   "nbconvert_exporter": "python",
   "pygments_lexer": "ipython3",
   "version": "3.8.5"
  }
 },
 "nbformat": 4,
 "nbformat_minor": 4
}
